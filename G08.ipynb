{
 "cells": [
  {
   "cell_type": "markdown",
   "metadata": {},
   "source": [
    "# TAREA 2 : Grupo 8 (**Javier Muñoz de Torres y Álvaro Morán Lorente**)<br>\n"
   ]
  },
  {
   "cell_type": "markdown",
   "metadata": {},
   "source": [
    "**Datos**: Trabajaremos con un conjunto de datos del ambito de medicina/salud, concretamente en relación a problemas al corazón. Los datos vienen de la unión de otros 4 datasets procedentes de Cleveland; Hungary; Switzerland y VA Long Beach, y han sido tomados de pacientes de hospitales.\n",
    "\n",
    "**Base de datos**: [Heart Disease](https://archive.ics.uci.edu/dataset/45/heart+disease)<br>\n",
    "En el conjunto de datos el target `num` es categórica, por lo que nos centraremos en una tarea de clasificación. Tiene un rango (0,4), es decir, 5 posibles niveles, que indican de menor a mayor la presencia de un problema en el corazon. El objetivo de este análisis es clasificar los pacientes, dados los atributos que mostraremos a continuación, según \"la presencia de problemas\" de corazon, lo que se puede interpretar con \"como de probable es que tengas un problema de corazón\".\n",
    "\n",
    "**Interpretación del target:** <br>\n",
    "Para darle un significado a ese rango (0,4), diremos que:<br>\n",
    "`0` &rarr; Poco probable<br>\n",
    "`1` &rarr; Algo probable<br>\n",
    "`2` &rarr; Probable<br>\n",
    "`3` &rarr; Bastante probable<br>\n",
    "`4` &rarr; Muy probable<br>\n",
    "Para nuestro análisis binarizaremos la variable objetivo (**`target`**). Asignaremos como clase positiva `1` aquellos diagnósticos en los que el estrechamiento de arterias es superior al 50% (problemas graves de corazón) y le asignaremos la clase negativa `0` a aquellos casos en los que el estrechamiento de arterias sea inferior al 50% (ausencia de problemas de corazón).\n",
    "A continuación, analizaremos los atributos (features):"
   ]
  },
  {
   "cell_type": "markdown",
   "metadata": {},
   "source": [
    "## Sección I. Esquema lineal (SVM)"
   ]
  },
  {
   "cell_type": "markdown",
   "metadata": {},
   "source": [
    "Cargamos todas las librerias que vamos a utilizar a lo largo de la tarea."
   ]
  },
  {
   "cell_type": "code",
   "execution_count": 1,
   "metadata": {},
   "outputs": [],
   "source": [
    "import pandas as pd\n",
    "from sklearn.svm import SVC\n",
    "from sklearn.svm import LinearSVC\n",
    "from sklearn.linear_model import LogisticRegression\n",
    "from sklearn.metrics import *\n",
    "import warnings\n",
    "warnings.filterwarnings('ignore')\n",
    "from sklearn.model_selection import train_test_split\n",
    "from sklearn.model_selection import cross_validate\n",
    "from sklearn.model_selection import GridSearchCV\n",
    "import matplotlib.pyplot as plt\n",
    "import numpy as np\n",
    "import seaborn as sns"
   ]
  },
  {
   "cell_type": "markdown",
   "metadata": {},
   "source": [
    "En esta primera sección vamos a hacer uso del modelo Support Vector Machine (SVM) considerando todas las características presentes en el dataset."
   ]
  },
  {
   "cell_type": "code",
   "execution_count": 2,
   "metadata": {},
   "outputs": [
    {
     "name": "stdout",
     "output_type": "stream",
     "text": [
      "<class 'pandas.core.frame.DataFrame'>\n",
      "RangeIndex: 212 entries, 0 to 211\n",
      "Data columns (total 22 columns):\n",
      " #   Column       Non-Null Count  Dtype  \n",
      "---  ------       --------------  -----  \n",
      " 0   age          212 non-null    float64\n",
      " 1   sex          212 non-null    float64\n",
      " 2   trestbps     212 non-null    float64\n",
      " 3   chol         212 non-null    float64\n",
      " 4   fbs          212 non-null    float64\n",
      " 5   thalach      212 non-null    float64\n",
      " 6   exang        212 non-null    float64\n",
      " 7   oldpeak      212 non-null    float64\n",
      " 8   ca           212 non-null    float64\n",
      " 9   cp_1.0       212 non-null    float64\n",
      " 10  cp_2.0       212 non-null    float64\n",
      " 11  cp_3.0       212 non-null    float64\n",
      " 12  cp_4.0       212 non-null    float64\n",
      " 13  restecg_0.0  212 non-null    float64\n",
      " 14  restecg_1.0  212 non-null    float64\n",
      " 15  restecg_2.0  212 non-null    float64\n",
      " 16  slope_1.0    212 non-null    float64\n",
      " 17  slope_2.0    212 non-null    float64\n",
      " 18  slope_3.0    212 non-null    float64\n",
      " 19  thal_3.0     212 non-null    float64\n",
      " 20  thal_6.0     212 non-null    float64\n",
      " 21  thal_7.0     212 non-null    float64\n",
      "dtypes: float64(22)\n",
      "memory usage: 36.6 KB\n"
     ]
    }
   ],
   "source": [
    "# Cargamos los dataframes preprocesados en la tarea 1\n",
    "X_Diseño_preprocesado = pd.read_pickle('X_Diseño_preprocesado.pkl')\n",
    "X_test_preprocesado = pd.read_pickle('X_test_preprocesado.pkl')\n",
    "Y_Diseño = pd.read_pickle('Y_Diseño.pkl')\n",
    "Y_test = pd.read_pickle('Y_test.pkl')\n",
    "X_Diseño_preprocesado.info()"
   ]
  },
  {
   "cell_type": "code",
   "execution_count": 3,
   "metadata": {},
   "outputs": [
    {
     "data": {
      "text/html": [
       "<div>\n",
       "<style scoped>\n",
       "    .dataframe tbody tr th:only-of-type {\n",
       "        vertical-align: middle;\n",
       "    }\n",
       "\n",
       "    .dataframe tbody tr th {\n",
       "        vertical-align: top;\n",
       "    }\n",
       "\n",
       "    .dataframe thead th {\n",
       "        text-align: right;\n",
       "    }\n",
       "</style>\n",
       "<table border=\"1\" class=\"dataframe\">\n",
       "  <thead>\n",
       "    <tr style=\"text-align: right;\">\n",
       "      <th></th>\n",
       "      <th>Coeff</th>\n",
       "      <th>Feature</th>\n",
       "    </tr>\n",
       "  </thead>\n",
       "  <tbody>\n",
       "    <tr>\n",
       "      <th>0</th>\n",
       "      <td>-0.163647</td>\n",
       "      <td>age</td>\n",
       "    </tr>\n",
       "    <tr>\n",
       "      <th>1</th>\n",
       "      <td>0.221199</td>\n",
       "      <td>sex</td>\n",
       "    </tr>\n",
       "    <tr>\n",
       "      <th>2</th>\n",
       "      <td>0.227613</td>\n",
       "      <td>trestbps</td>\n",
       "    </tr>\n",
       "    <tr>\n",
       "      <th>3</th>\n",
       "      <td>-0.100452</td>\n",
       "      <td>chol</td>\n",
       "    </tr>\n",
       "    <tr>\n",
       "      <th>4</th>\n",
       "      <td>-0.125688</td>\n",
       "      <td>fbs</td>\n",
       "    </tr>\n",
       "    <tr>\n",
       "      <th>5</th>\n",
       "      <td>0.000031</td>\n",
       "      <td>thalach</td>\n",
       "    </tr>\n",
       "    <tr>\n",
       "      <th>6</th>\n",
       "      <td>0.378430</td>\n",
       "      <td>exang</td>\n",
       "    </tr>\n",
       "    <tr>\n",
       "      <th>7</th>\n",
       "      <td>0.279256</td>\n",
       "      <td>oldpeak</td>\n",
       "    </tr>\n",
       "    <tr>\n",
       "      <th>8</th>\n",
       "      <td>0.801964</td>\n",
       "      <td>ca</td>\n",
       "    </tr>\n",
       "    <tr>\n",
       "      <th>9</th>\n",
       "      <td>-0.622205</td>\n",
       "      <td>cp_1.0</td>\n",
       "    </tr>\n",
       "    <tr>\n",
       "      <th>10</th>\n",
       "      <td>0.108556</td>\n",
       "      <td>cp_2.0</td>\n",
       "    </tr>\n",
       "    <tr>\n",
       "      <th>11</th>\n",
       "      <td>-0.212289</td>\n",
       "      <td>cp_3.0</td>\n",
       "    </tr>\n",
       "    <tr>\n",
       "      <th>12</th>\n",
       "      <td>0.725938</td>\n",
       "      <td>cp_4.0</td>\n",
       "    </tr>\n",
       "    <tr>\n",
       "      <th>13</th>\n",
       "      <td>-0.161380</td>\n",
       "      <td>restecg_0.0</td>\n",
       "    </tr>\n",
       "    <tr>\n",
       "      <th>14</th>\n",
       "      <td>0.000000</td>\n",
       "      <td>restecg_1.0</td>\n",
       "    </tr>\n",
       "    <tr>\n",
       "      <th>15</th>\n",
       "      <td>0.161380</td>\n",
       "      <td>restecg_2.0</td>\n",
       "    </tr>\n",
       "    <tr>\n",
       "      <th>16</th>\n",
       "      <td>-0.318257</td>\n",
       "      <td>slope_1.0</td>\n",
       "    </tr>\n",
       "    <tr>\n",
       "      <th>17</th>\n",
       "      <td>0.411581</td>\n",
       "      <td>slope_2.0</td>\n",
       "    </tr>\n",
       "    <tr>\n",
       "      <th>18</th>\n",
       "      <td>-0.093325</td>\n",
       "      <td>slope_3.0</td>\n",
       "    </tr>\n",
       "    <tr>\n",
       "      <th>19</th>\n",
       "      <td>-0.620104</td>\n",
       "      <td>thal_3.0</td>\n",
       "    </tr>\n",
       "    <tr>\n",
       "      <th>20</th>\n",
       "      <td>0.093013</td>\n",
       "      <td>thal_6.0</td>\n",
       "    </tr>\n",
       "    <tr>\n",
       "      <th>21</th>\n",
       "      <td>0.527091</td>\n",
       "      <td>thal_7.0</td>\n",
       "    </tr>\n",
       "  </tbody>\n",
       "</table>\n",
       "</div>"
      ],
      "text/plain": [
       "       Coeff      Feature\n",
       "0  -0.163647          age\n",
       "1   0.221199          sex\n",
       "2   0.227613     trestbps\n",
       "3  -0.100452         chol\n",
       "4  -0.125688          fbs\n",
       "5   0.000031      thalach\n",
       "6   0.378430        exang\n",
       "7   0.279256      oldpeak\n",
       "8   0.801964           ca\n",
       "9  -0.622205       cp_1.0\n",
       "10  0.108556       cp_2.0\n",
       "11 -0.212289       cp_3.0\n",
       "12  0.725938       cp_4.0\n",
       "13 -0.161380  restecg_0.0\n",
       "14  0.000000  restecg_1.0\n",
       "15  0.161380  restecg_2.0\n",
       "16 -0.318257    slope_1.0\n",
       "17  0.411581    slope_2.0\n",
       "18 -0.093325    slope_3.0\n",
       "19 -0.620104     thal_3.0\n",
       "20  0.093013     thal_6.0\n",
       "21  0.527091     thal_7.0"
      ]
     },
     "execution_count": 3,
     "metadata": {},
     "output_type": "execute_result"
    }
   ],
   "source": [
    "svm_lineal = SVC(kernel = 'linear')\n",
    "svm_lineal.fit(X_Diseño_preprocesado, Y_Diseño)\n",
    "coeff_svm_lineal = list(map(float,svm_lineal.coef_[0]))\n",
    "pairs = []\n",
    "for i in range(len(coeff_svm_lineal)):\n",
    "    pairs.append([coeff_svm_lineal[i],X_Diseño_preprocesado.columns[i]])\n",
    "pd.DataFrame(pairs, columns=['Coeff', 'Feature'])"
   ]
  },
  {
   "cell_type": "markdown",
   "metadata": {},
   "source": [
    "Se puede observar que los coeficientes que mas influyen en el target a la hora de clasificar son: <br>\n",
    "* **Positivamente a la clase 1:**  <br>\n",
    "    `1` ca : Número de vasos principales (0-3) coloreados por fluoroscopia <br>\n",
    "    `2` cp_4.0 : Tipo de dolor en el pecho (Asintomático) <br>\n",
    "    `3` thal_7.0 : Prueba de tálamo o tali (Efecto reversble) <br>\n",
    "* **Positivamente a la clase 0:**  <br>\n",
    "    `1` cp_1.0 : Tipo de dolor en el pecho (Angina típica) <br>\n",
    "    `2` thal_3.0 Prueba de tálamo o tali (Efecto fijo) : <br>\n",
    "    `3` slope_1.0 : La pendiente del segmento ST en el pico del ejercicio (Pendiente ascendente) <br>"
   ]
  },
  {
   "cell_type": "markdown",
   "metadata": {},
   "source": [
    " Coeficientes SVM lineal ?¿?¿??\n",
    "?¿¿¿¿¿¿¿¿¿¿¿¿¿¿¿¿¿¿?¿??"
   ]
  },
  {
   "cell_type": "markdown",
   "metadata": {},
   "source": [
    "### Importancia del escalado de los datos\n"
   ]
  },
  {
   "cell_type": "markdown",
   "metadata": {},
   "source": [
    "La normalizacion/estandarización de los datos para crear un modelo SVM es esencial. Esto se debe a que el modelo de SVM utiliza muestras del entrenamiento que llamaremos 'vectores soporte' para crear la frontera que  separa linealmente las clases y maximiza la distancia a estos puntos. Como hace uso de la distancia euclidea necesitamos estandarizar los datos para trabajar con las misma escala."
   ]
  },
  {
   "cell_type": "markdown",
   "metadata": {},
   "source": [
    "### Comparacion con la regresión logística"
   ]
  },
  {
   "cell_type": "code",
   "execution_count": 4,
   "metadata": {},
   "outputs": [
    {
     "data": {
      "text/html": [
       "<div>\n",
       "<style scoped>\n",
       "    .dataframe tbody tr th:only-of-type {\n",
       "        vertical-align: middle;\n",
       "    }\n",
       "\n",
       "    .dataframe tbody tr th {\n",
       "        vertical-align: top;\n",
       "    }\n",
       "\n",
       "    .dataframe thead th {\n",
       "        text-align: right;\n",
       "    }\n",
       "</style>\n",
       "<table border=\"1\" class=\"dataframe\">\n",
       "  <thead>\n",
       "    <tr style=\"text-align: right;\">\n",
       "      <th></th>\n",
       "      <th>Coef_Regresion</th>\n",
       "      <th>Coef_SVM_lineal</th>\n",
       "      <th>Diferencia</th>\n",
       "    </tr>\n",
       "  </thead>\n",
       "  <tbody>\n",
       "    <tr>\n",
       "      <th>age</th>\n",
       "      <td>-0.115194</td>\n",
       "      <td>-0.163647</td>\n",
       "      <td>0.048453</td>\n",
       "    </tr>\n",
       "    <tr>\n",
       "      <th>sex</th>\n",
       "      <td>0.566142</td>\n",
       "      <td>0.221199</td>\n",
       "      <td>0.344942</td>\n",
       "    </tr>\n",
       "    <tr>\n",
       "      <th>trestbps</th>\n",
       "      <td>0.309949</td>\n",
       "      <td>0.227613</td>\n",
       "      <td>0.082336</td>\n",
       "    </tr>\n",
       "    <tr>\n",
       "      <th>chol</th>\n",
       "      <td>-0.012311</td>\n",
       "      <td>-0.100452</td>\n",
       "      <td>0.088141</td>\n",
       "    </tr>\n",
       "    <tr>\n",
       "      <th>fbs</th>\n",
       "      <td>-0.275966</td>\n",
       "      <td>-0.125688</td>\n",
       "      <td>0.150278</td>\n",
       "    </tr>\n",
       "    <tr>\n",
       "      <th>thalach</th>\n",
       "      <td>-0.046604</td>\n",
       "      <td>0.000031</td>\n",
       "      <td>0.046636</td>\n",
       "    </tr>\n",
       "    <tr>\n",
       "      <th>exang</th>\n",
       "      <td>0.643541</td>\n",
       "      <td>0.378430</td>\n",
       "      <td>0.265111</td>\n",
       "    </tr>\n",
       "    <tr>\n",
       "      <th>oldpeak</th>\n",
       "      <td>0.514046</td>\n",
       "      <td>0.279256</td>\n",
       "      <td>0.234790</td>\n",
       "    </tr>\n",
       "    <tr>\n",
       "      <th>ca</th>\n",
       "      <td>1.138007</td>\n",
       "      <td>0.801964</td>\n",
       "      <td>0.336043</td>\n",
       "    </tr>\n",
       "    <tr>\n",
       "      <th>cp_1.0</th>\n",
       "      <td>-0.982826</td>\n",
       "      <td>-0.622205</td>\n",
       "      <td>0.360621</td>\n",
       "    </tr>\n",
       "    <tr>\n",
       "      <th>cp_2.0</th>\n",
       "      <td>0.155091</td>\n",
       "      <td>0.108556</td>\n",
       "      <td>0.046535</td>\n",
       "    </tr>\n",
       "    <tr>\n",
       "      <th>cp_3.0</th>\n",
       "      <td>-0.581341</td>\n",
       "      <td>-0.212289</td>\n",
       "      <td>0.369052</td>\n",
       "    </tr>\n",
       "    <tr>\n",
       "      <th>cp_4.0</th>\n",
       "      <td>1.220227</td>\n",
       "      <td>0.725938</td>\n",
       "      <td>0.494289</td>\n",
       "    </tr>\n",
       "    <tr>\n",
       "      <th>restecg_0.0</th>\n",
       "      <td>-0.356145</td>\n",
       "      <td>-0.161380</td>\n",
       "      <td>0.194765</td>\n",
       "    </tr>\n",
       "    <tr>\n",
       "      <th>restecg_1.0</th>\n",
       "      <td>-0.012268</td>\n",
       "      <td>0.000000</td>\n",
       "      <td>0.012268</td>\n",
       "    </tr>\n",
       "    <tr>\n",
       "      <th>restecg_2.0</th>\n",
       "      <td>0.179564</td>\n",
       "      <td>0.161380</td>\n",
       "      <td>0.018184</td>\n",
       "    </tr>\n",
       "    <tr>\n",
       "      <th>slope_1.0</th>\n",
       "      <td>-0.563339</td>\n",
       "      <td>-0.318257</td>\n",
       "      <td>0.245082</td>\n",
       "    </tr>\n",
       "    <tr>\n",
       "      <th>slope_2.0</th>\n",
       "      <td>0.595625</td>\n",
       "      <td>0.411581</td>\n",
       "      <td>0.184044</td>\n",
       "    </tr>\n",
       "    <tr>\n",
       "      <th>slope_3.0</th>\n",
       "      <td>-0.221136</td>\n",
       "      <td>-0.093325</td>\n",
       "      <td>0.127811</td>\n",
       "    </tr>\n",
       "    <tr>\n",
       "      <th>thal_3.0</th>\n",
       "      <td>-0.696661</td>\n",
       "      <td>-0.620104</td>\n",
       "      <td>0.076556</td>\n",
       "    </tr>\n",
       "    <tr>\n",
       "      <th>thal_6.0</th>\n",
       "      <td>-0.175392</td>\n",
       "      <td>0.093013</td>\n",
       "      <td>0.268405</td>\n",
       "    </tr>\n",
       "    <tr>\n",
       "      <th>thal_7.0</th>\n",
       "      <td>0.683204</td>\n",
       "      <td>0.527091</td>\n",
       "      <td>0.156112</td>\n",
       "    </tr>\n",
       "  </tbody>\n",
       "</table>\n",
       "</div>"
      ],
      "text/plain": [
       "             Coef_Regresion  Coef_SVM_lineal  Diferencia\n",
       "age               -0.115194        -0.163647    0.048453\n",
       "sex                0.566142         0.221199    0.344942\n",
       "trestbps           0.309949         0.227613    0.082336\n",
       "chol              -0.012311        -0.100452    0.088141\n",
       "fbs               -0.275966        -0.125688    0.150278\n",
       "thalach           -0.046604         0.000031    0.046636\n",
       "exang              0.643541         0.378430    0.265111\n",
       "oldpeak            0.514046         0.279256    0.234790\n",
       "ca                 1.138007         0.801964    0.336043\n",
       "cp_1.0            -0.982826        -0.622205    0.360621\n",
       "cp_2.0             0.155091         0.108556    0.046535\n",
       "cp_3.0            -0.581341        -0.212289    0.369052\n",
       "cp_4.0             1.220227         0.725938    0.494289\n",
       "restecg_0.0       -0.356145        -0.161380    0.194765\n",
       "restecg_1.0       -0.012268         0.000000    0.012268\n",
       "restecg_2.0        0.179564         0.161380    0.018184\n",
       "slope_1.0         -0.563339        -0.318257    0.245082\n",
       "slope_2.0          0.595625         0.411581    0.184044\n",
       "slope_3.0         -0.221136        -0.093325    0.127811\n",
       "thal_3.0          -0.696661        -0.620104    0.076556\n",
       "thal_6.0          -0.175392         0.093013    0.268405\n",
       "thal_7.0           0.683204         0.527091    0.156112"
      ]
     },
     "execution_count": 4,
     "metadata": {},
     "output_type": "execute_result"
    }
   ],
   "source": [
    "coeff_reg_log = [-0.11519437219116264,\n",
    " 0.566141608117244, \n",
    " 0.3099489241956889, \n",
    " -0.012310801030252373,\n",
    " -0.2759661876682957, \n",
    " -0.04660442981566006,\n",
    " 0.6435409647784468, \n",
    " 0.5140459080033545, \n",
    " 1.1380068486464945, \n",
    " -0.9828262177706325, \n",
    " 0.15509087190068083, \n",
    " -0.581341375932084, \n",
    " 1.2202274133609519, \n",
    " -0.3561452457617638, \n",
    " -0.012267781149770146,\n",
    " 0.17956371847045208, \n",
    " -0.5633388805305239, \n",
    " 0.5956251051994648, \n",
    " -0.22113553311002293,\n",
    " -0.6966608521082523, \n",
    " -0.17539205144422487,\n",
    " 0.6832035951113941]\n",
    "# Creamos el dataframe de comparacion\n",
    "coeff_comparacion = pd.DataFrame([coeff_reg_log], columns=X_Diseño_preprocesado.columns)\n",
    "coeff_comparacion.loc[len(coeff_comparacion)] = coeff_svm_lineal\n",
    "coeff_comparacion.loc[len(coeff_comparacion)] = abs(coeff_comparacion.iloc[0] - coeff_comparacion.iloc[1])\n",
    "coeff_comparacion = coeff_comparacion.T\n",
    "coeff_comparacion.columns = ['Coef_Regresion','Coef_SVM_lineal','Diferencia']\n",
    "coeff_comparacion\n"
   ]
  },
  {
   "cell_type": "markdown",
   "metadata": {},
   "source": [
    "La svm en aproximadamente la mitad de los coeficientes apenas difiere con la regresión logística. En cuanto a los coeficientes más grandes, ambos modelos concuerdan en que los atributos más influyentes son:\n",
    "\n",
    "* **Positivamente a la clase 1:**  <br>\n",
    "     - thal_0.7  <br>\n",
    "     - cp_4.0  <br>\n",
    "     - ca  <br>\n",
    "* **Positivamente a la clase 0:**  <br>\n",
    "     - cp_1.0 <br>\n",
    "     - thal_3.0 <br>\n",
    "\n",
    "En la mayoría de coeficientes, ambos modelos, puesto que son similares, han llegado una conclusión similar. Algunas característica que parecía relevante con 1 modelo ha acabado siendo descartada como influyente, como por ejemplo slope_1.0, oldpeak o exang. Por otro lado, ambos modelos coinciden a la hora de poner coeficientes muy bajos a ciertos atributos, como restecg_1.0, cp_2.0, thalach o chol."
   ]
  },
  {
   "cell_type": "markdown",
   "metadata": {},
   "source": [
    "### Prestaciones de los modelos"
   ]
  },
  {
   "cell_type": "markdown",
   "metadata": {},
   "source": [
    "\n",
    "Ahora vamos a ver las prestaciones de ambos modelos para comparar los resultados y extraer conclusiones."
   ]
  },
  {
   "cell_type": "code",
   "execution_count": 5,
   "metadata": {},
   "outputs": [
    {
     "name": "stdout",
     "output_type": "stream",
     "text": [
      "Numero predicciones distintas: 1\n",
      "Numero de observaciones: 91\n"
     ]
    }
   ],
   "source": [
    "# Regresión logística\n",
    "modelo_RL = LogisticRegression(C=0.001, solver='newton-cg', penalty=None, random_state=314)\n",
    "modelo_RL.fit(X_Diseño_preprocesado, Y_Diseño)\n",
    "modelo_RL_predict = modelo_RL.predict(X_test_preprocesado)\n",
    "\n",
    "# SVM \n",
    "svm_lineal_predict = svm_lineal.predict(X_test_preprocesado)\n",
    "dif = (modelo_RL_predict!=svm_lineal_predict).sum()\n",
    "print(f\"Numero predicciones distintas: {dif}\")\n",
    "print(f\"Numero de observaciones: {X_test_preprocesado.shape[0]}\")"
   ]
  },
  {
   "cell_type": "markdown",
   "metadata": {},
   "source": [
    "Ambos modelos han predecido tan solo una observación distinta de 91 que hay en el conjunto de test, es decir, que sus prestaciones son practicamente idénticas. Ahora, comparemos directamente con las figuras de mérito."
   ]
  },
  {
   "cell_type": "code",
   "execution_count": 6,
   "metadata": {},
   "outputs": [],
   "source": [
    "#Obtenemos las figuras de merito\n",
    "f1_lineal = f1_score(Y_test,svm_lineal_predict)\n",
    "acc_lineal = accuracy_score(Y_test,svm_lineal_predict)\n",
    "prec_lineal = precision_score(Y_test,svm_lineal_predict)\n",
    "recall_lineal = recall_score(Y_test,svm_lineal_predict)"
   ]
  },
  {
   "cell_type": "code",
   "execution_count": 7,
   "metadata": {},
   "outputs": [
    {
     "data": {
      "text/html": [
       "<div>\n",
       "<style scoped>\n",
       "    .dataframe tbody tr th:only-of-type {\n",
       "        vertical-align: middle;\n",
       "    }\n",
       "\n",
       "    .dataframe tbody tr th {\n",
       "        vertical-align: top;\n",
       "    }\n",
       "\n",
       "    .dataframe thead th {\n",
       "        text-align: right;\n",
       "    }\n",
       "</style>\n",
       "<table border=\"1\" class=\"dataframe\">\n",
       "  <thead>\n",
       "    <tr style=\"text-align: right;\">\n",
       "      <th></th>\n",
       "      <th>RegresionLogistica_reg</th>\n",
       "      <th>SVM Lineal</th>\n",
       "    </tr>\n",
       "  </thead>\n",
       "  <tbody>\n",
       "    <tr>\n",
       "      <th>Accuracy</th>\n",
       "      <td>0.846154</td>\n",
       "      <td>0.835165</td>\n",
       "    </tr>\n",
       "    <tr>\n",
       "      <th>F1_score</th>\n",
       "      <td>0.815789</td>\n",
       "      <td>0.805195</td>\n",
       "    </tr>\n",
       "    <tr>\n",
       "      <th>Precisión</th>\n",
       "      <td>0.861111</td>\n",
       "      <td>0.837838</td>\n",
       "    </tr>\n",
       "    <tr>\n",
       "      <th>Recall</th>\n",
       "      <td>0.775000</td>\n",
       "      <td>0.775000</td>\n",
       "    </tr>\n",
       "  </tbody>\n",
       "</table>\n",
       "</div>"
      ],
      "text/plain": [
       "           RegresionLogistica_reg  SVM Lineal\n",
       "Accuracy                 0.846154    0.835165\n",
       "F1_score                 0.815789    0.805195\n",
       "Precisión                0.861111    0.837838\n",
       "Recall                   0.775000    0.775000"
      ]
     },
     "execution_count": 7,
     "metadata": {},
     "output_type": "execute_result"
    }
   ],
   "source": [
    "figuras_regresion_log = {\n",
    "'RegresionLogistica_reg':     [0.846154,\t0.815789,\t0.861111,\t0.775],\n",
    "'SVM Lineal': [acc_lineal,f1_lineal,prec_lineal,recall_lineal]\n",
    "}\n",
    "tabla_regresion_log = pd.DataFrame(figuras_regresion_log, index=['Accuracy', 'F1_score', 'Precisión', 'Recall'])\n",
    "tabla_regresion_log"
   ]
  },
  {
   "cell_type": "markdown",
   "metadata": {},
   "source": [
    "Tras calcular las figuras de mérito observamos que ambos modelos presentan unos resultados similares. Esto tiene sentido si tenemos en cuenta que ambos modelos tienen en comun 5 atributos como los mas relevantes/influyentes."
   ]
  },
  {
   "cell_type": "markdown",
   "metadata": {},
   "source": [
    "## Sección II. Esquema no lineal "
   ]
  },
  {
   "cell_type": "markdown",
   "metadata": {},
   "source": [
    "Las prestaciones del esquema lineal no son malas, pero no lo suficiente buenas como para asumir que es un problema linealmente separable por lo que probaremos 3 kernels no lineales, pero sin ajustar sus hiperparámetros todavía."
   ]
  },
  {
   "cell_type": "code",
   "execution_count": 8,
   "metadata": {},
   "outputs": [],
   "source": [
    "# Creamos el conjunto de train y validacion\n",
    "X_train,X_val,Y_train ,Y_val= train_test_split(X_Diseño_preprocesado,Y_Diseño,random_state=314)"
   ]
  },
  {
   "cell_type": "code",
   "execution_count": 9,
   "metadata": {},
   "outputs": [],
   "source": [
    "# Creamos los diferentes modelos con distintos kernel\n",
    "kernels = ['linear', 'rbf', 'poly','sigmoid']\n",
    "figuras_merito = {}\n",
    "\n",
    "for kernel in kernels:\n",
    "    #Creamos el modelo y predecimos\n",
    "    svm_no_lineal = SVC(kernel = kernel,random_state=314)\n",
    "    svm_no_lineal.fit(X_train,Y_train)\n",
    "    prediccion = svm_no_lineal.predict(X_val)\n",
    "    #Hallamos las figuras de mérito\n",
    "    f1_kernel = f1_score(Y_val, prediccion)\n",
    "    acc_kernel = accuracy_score(Y_val, prediccion)\n",
    "    prec_kernel = precision_score(Y_val, prediccion)\n",
    "    recall_kernel = recall_score(Y_val, prediccion)\n",
    "    #Las guardamos en un diccionario\n",
    "    figuras_merito[kernel] = {}\n",
    "    figuras_merito[kernel]['f1_score'] = f1_kernel\n",
    "    figuras_merito[kernel]['accuracy'] = acc_kernel\n",
    "    figuras_merito[kernel]['precision'] = prec_kernel\n",
    "    figuras_merito[kernel]['recall'] = recall_kernel    \n"
   ]
  },
  {
   "cell_type": "code",
   "execution_count": 10,
   "metadata": {},
   "outputs": [
    {
     "data": {
      "text/html": [
       "<div>\n",
       "<style scoped>\n",
       "    .dataframe tbody tr th:only-of-type {\n",
       "        vertical-align: middle;\n",
       "    }\n",
       "\n",
       "    .dataframe tbody tr th {\n",
       "        vertical-align: top;\n",
       "    }\n",
       "\n",
       "    .dataframe thead th {\n",
       "        text-align: right;\n",
       "    }\n",
       "</style>\n",
       "<table border=\"1\" class=\"dataframe\">\n",
       "  <thead>\n",
       "    <tr style=\"text-align: right;\">\n",
       "      <th></th>\n",
       "      <th>linear</th>\n",
       "      <th>rbf</th>\n",
       "      <th>poly</th>\n",
       "      <th>sigmoid</th>\n",
       "    </tr>\n",
       "  </thead>\n",
       "  <tbody>\n",
       "    <tr>\n",
       "      <th>f1_score</th>\n",
       "      <td>0.809524</td>\n",
       "      <td>0.844444</td>\n",
       "      <td>0.800000</td>\n",
       "      <td>0.818182</td>\n",
       "    </tr>\n",
       "    <tr>\n",
       "      <th>accuracy</th>\n",
       "      <td>0.849057</td>\n",
       "      <td>0.867925</td>\n",
       "      <td>0.849057</td>\n",
       "      <td>0.849057</td>\n",
       "    </tr>\n",
       "    <tr>\n",
       "      <th>precision</th>\n",
       "      <td>0.850000</td>\n",
       "      <td>0.826087</td>\n",
       "      <td>0.888889</td>\n",
       "      <td>0.818182</td>\n",
       "    </tr>\n",
       "    <tr>\n",
       "      <th>recall</th>\n",
       "      <td>0.772727</td>\n",
       "      <td>0.863636</td>\n",
       "      <td>0.727273</td>\n",
       "      <td>0.818182</td>\n",
       "    </tr>\n",
       "  </tbody>\n",
       "</table>\n",
       "</div>"
      ],
      "text/plain": [
       "             linear       rbf      poly   sigmoid\n",
       "f1_score   0.809524  0.844444  0.800000  0.818182\n",
       "accuracy   0.849057  0.867925  0.849057  0.849057\n",
       "precision  0.850000  0.826087  0.888889  0.818182\n",
       "recall     0.772727  0.863636  0.727273  0.818182"
      ]
     },
     "execution_count": 10,
     "metadata": {},
     "output_type": "execute_result"
    }
   ],
   "source": [
    "df_figuras = pd.DataFrame(figuras_merito)\n",
    "df_figuras"
   ]
  },
  {
   "cell_type": "markdown",
   "metadata": {},
   "source": [
    "Utilizando los kernel no lineales observamos mejores resultados que con el kernel lineal. El que produce mejores resultados es la **rbf**.   "
   ]
  },
  {
   "cell_type": "markdown",
   "metadata": {},
   "source": [
    "### GRIDSEARCH CROSS-VALIDATION"
   ]
  },
  {
   "cell_type": "markdown",
   "metadata": {},
   "source": [
    "Ahora vamos a ver como varía el *recall* en función de los hiperparámetros del *kernel* con mejores prestaciones."
   ]
  },
  {
   "cell_type": "code",
   "execution_count": 129,
   "metadata": {},
   "outputs": [],
   "source": [
    "hp_linear = {'C': np.linspace(0.01,40,20)}\n",
    "hp_rbf = {'C': np.linspace(0,10,11),'gamma': np.linspace(0.001,0.1,11)}\n",
    "hp_poly = {'C': np.linspace(0.01,10,10),'degree': [2,3,4],'gamma':  np.linspace(0.001,0.1,11)}\n",
    "hp_sigmoid = {'C': np.linspace(0.01,30,10),'gamma': np.linspace(0.001,0.1,10)}\n",
    "hiperparametros_kernels = []\n",
    "hiperparametros_kernels.append(hp_linear)\n",
    "hiperparametros_kernels.append(hp_rbf)\n",
    "hiperparametros_kernels.append(hp_poly)\n",
    "hiperparametros_kernels.append(hp_sigmoid)"
   ]
  },
  {
   "cell_type": "markdown",
   "metadata": {},
   "source": [
    "Una vez guardado los valores de los hiperparámetros que vamos a utilizar usamos el método de *GridSearch* para buscar la mejor combinación de hiperparámetros."
   ]
  },
  {
   "cell_type": "code",
   "execution_count": 130,
   "metadata": {},
   "outputs": [
    {
     "name": "stdout",
     "output_type": "stream",
     "text": [
      "Finished linear.\n",
      "Finished rbf.\n",
      "Finished poly.\n",
      "Finished sigmoid.\n"
     ]
    }
   ],
   "source": [
    "# Busqueda de hiperparmáetros\n",
    "resultados = {}\n",
    "bestParams = {}\n",
    "i = 0\n",
    "while i < len(hiperparametros_kernels):\n",
    "    SVM_cv = GridSearchCV(SVC(kernel=kernels[i],random_state=314),param_grid=hiperparametros_kernels[i],cv=10,scoring='recall',return_train_score=True)\n",
    "    SVM_cv.fit(X_Diseño_preprocesado,Y_Diseño)\n",
    "    resultados[kernels[i]] = SVM_cv.cv_results_\n",
    "    bestParams[kernels[i]] = SVM_cv.best_params_\n",
    "    print(f\"Finished {kernels[i]}.\")\n",
    "    i += 1\n"
   ]
  },
  {
   "cell_type": "markdown",
   "metadata": {},
   "source": [
    "### LINEAR KERNEL"
   ]
  },
  {
   "cell_type": "markdown",
   "metadata": {},
   "source": [
    "Primero vamos a representar los resultados del kernel lineal"
   ]
  },
  {
   "cell_type": "code",
   "execution_count": 101,
   "metadata": {},
   "outputs": [
    {
     "data": {
      "image/png": "[encoded data removed]",
      "text/plain": [
       "<Figure size 1400x600 with 1 Axes>"
      ]
     },
     "metadata": {},
     "output_type": "display_data"
    }
   ],
   "source": [
    "import numpy as np\n",
    "import matplotlib.pyplot as plt\n",
    "\n",
    "# Datos\n",
    "recall_scores_test = np.array(resultados['linear']['mean_test_score'], dtype=float)\n",
    "recall_scores_train = np.array(resultados['linear']['mean_train_score'], dtype=float)\n",
    "C_params = np.array(resultados['linear']['param_C'], dtype=float)\n",
    "\n",
    "# Crear la gráfica\n",
    "plt.figure(figsize=(14, 6))\n",
    "\n",
    "# Plot para el recall de test\n",
    "plt.plot(C_params, recall_scores_test, color='red', linestyle='-', linewidth=2, label='Recall (Test)', marker='o', markersize=6)\n",
    "\n",
    "# Plot para el recall de train\n",
    "plt.plot(C_params, recall_scores_train, color='blue', linestyle='--', linewidth=2, label='Recall (Train)', marker='s', markersize=6)\n",
    "\n",
    "# Agregar etiquetas y título\n",
    "plt.xlabel('C', fontsize=14)\n",
    "plt.ylabel('Recall', fontsize=14)\n",
    "plt.title('Recall en Train y Test', fontsize=16)\n",
    "plt.legend()\n",
    "\n",
    "# Mejorar la apariencia\n",
    "plt.grid(True, which='both', linestyle='--', linewidth=0.5, alpha=0.7)  # Mejorar el estilo de la rejilla\n",
    "plt.tight_layout()  # Ajustar el espaciado de la gráfica para que no se corte\n",
    "plt.xticks(fontsize=12)\n",
    "plt.yticks(fontsize=12)\n",
    "\n",
    "# Mostrar la gráfica\n",
    "plt.show()\n"
   ]
  },
  {
   "cell_type": "markdown",
   "metadata": {},
   "source": [
    "Se puede apreciar que el modelo a partir de un C = 19, C = 21 el modelo ya estabiliza y no consigue mayores resultados, y como un mayor valor de C tiende a sobreajustar nos quedaremos con C = 21."
   ]
  },
  {
   "cell_type": "markdown",
   "metadata": {},
   "source": [
    "### RBF KERNEL"
   ]
  },
  {
   "cell_type": "markdown",
   "metadata": {},
   "source": [
    "Ahora vamos a representar los resultados utilizando como *kernel* la **RBF**. Para ello, debido a que tenemos 2 parametros a estimar, representaremos en 3 dimensiones y de varías formas."
   ]
  },
  {
   "cell_type": "code",
   "execution_count": 108,
   "metadata": {},
   "outputs": [
    {
     "data": {
      "image/png": "[encoded data removed]",
      "text/plain": [
       "<Figure size 3000x800 with 2 Axes>"
      ]
     },
     "metadata": {},
     "output_type": "display_data"
    }
   ],
   "source": [
    "import numpy as np\n",
    "import matplotlib.pyplot as plt\n",
    "from mpl_toolkits.mplot3d import Axes3D\n",
    "\n",
    "# Extraer los resultados del GridSearchCV para el kernel RBF\n",
    "kernel_rbf_results = resultados['rbf']  # Ajusta si la clave en tu diccionario es diferente\n",
    "\n",
    "# Extraer los valores de los hiperparámetros y el score\n",
    "C_values = kernel_rbf_results['param_C'].data  # Valores de C\n",
    "gamma_values = kernel_rbf_results['param_gamma'].data  # Valores de gamma\n",
    "recall_scores = kernel_rbf_results['mean_test_score']  # Recall medio\n",
    "\n",
    "# Asegurarse de convertir todo a arrays NumPy para trabajar más fácilmente\n",
    "C_values = np.array(C_values, dtype=float)\n",
    "gamma_values = np.array(gamma_values, dtype=float)\n",
    "recall_scores = np.array(recall_scores, dtype=float)\n",
    "\n",
    "# Crear una malla de C y gamma para el gráfico 3D\n",
    "C_unique = np.unique(C_values)\n",
    "gamma_unique = np.unique(gamma_values)\n",
    "\n",
    "# Reorganizar el score (recall) en formato de malla\n",
    "C_grid, gamma_grid = np.meshgrid(C_unique, gamma_unique)\n",
    "\n",
    "# Reshape del score para que coincida con la malla\n",
    "recall_grid = recall_scores.reshape(len(gamma_unique), len(C_unique))\n",
    "\n",
    "# Crear el gráfico 3D\n",
    "fig = plt.figure(figsize=(30, 8))\n",
    "ax = fig.add_subplot(111, projection='3d')\n",
    "\n",
    "# Dibujar la superficie\n",
    "surf = ax.plot_surface(C_grid, gamma_grid, recall_grid, cmap='crest', edgecolor='k')\n",
    "\n",
    "ax.view_init(elev=30, azim=45)  # PARA ROTAR!!!\n",
    "\n",
    "# Etiquetas de los ejes\n",
    "ax.set_xlabel('C')\n",
    "ax.set_ylabel('Gamma')\n",
    "ax.set_zlabel('Recall')\n",
    "ax.set_title('Variación del Recall en función de C y Gamma (Kernel RBF)')\n",
    "\n",
    "# Barra de colores para el score\n",
    "fig.colorbar(surf, ax=ax, shrink=0.5, aspect=5)\n",
    "\n",
    "# Mostrar el gráfico\n",
    "plt.show()\n"
   ]
  },
  {
   "cell_type": "code",
   "execution_count": 109,
   "metadata": {},
   "outputs": [
    {
     "data": {
      "image/png": "[encoded data removed]",
      "text/plain": [
       "<Figure size 1000x700 with 2 Axes>"
      ]
     },
     "metadata": {},
     "output_type": "display_data"
    }
   ],
   "source": [
    "# Extraer resultados del GridSearchCV\n",
    "kernel_rbf_results = resultados['rbf'] \n",
    "\n",
    "# Extraer los valores de C, gamma y el score\n",
    "C_values = kernel_rbf_results['param_C'].data\n",
    "gamma_values = kernel_rbf_results['param_gamma'].data\n",
    "recall_scores = kernel_rbf_results['mean_test_score']\n",
    "\n",
    "# Creamos un DataFrame para facilitar el manejo de datos\n",
    "df = pd.DataFrame({\n",
    "    'C': C_values,\n",
    "    'Gamma': gamma_values,\n",
    "    'Recall': recall_scores\n",
    "})\n",
    "\n",
    "# Creamos una tabla pivotante para el heatmap\n",
    "pivot_table = df.pivot_table(index='Gamma', columns='C', values='Recall')\n",
    "\n",
    "plt.figure(figsize=(10, 7))\n",
    "sns.heatmap(pivot_table, annot=True, cmap='coolwarm', fmt=\".3f\", cbar_kws={'label': 'Recall'})\n",
    "plt.title('Heatmap del Recall en función de C y Gamma (Kernel RBF) para el conjunto de Validación')\n",
    "plt.xlabel('C')\n",
    "plt.ylabel('Gamma')\n",
    "plt.show()"
   ]
  },
  {
   "cell_type": "code",
   "execution_count": 110,
   "metadata": {},
   "outputs": [
    {
     "data": {
      "application/vnd.plotly.v1+json": {
       "config": {
        "plotlyServerURL": "https://plot.ly"
       },
       "data": [
        {
         "colorscale": [
          [
           0,
           "#000004"
          ],
          [
           0.1111111111111111,
           "#1b0c41"
          ],
          [
           0.2222222222222222,
           "#4a0c6b"
          ],
          [
           0.3333333333333333,
           "#781c6d"
          ],
          [
           0.4444444444444444,
           "#a52c60"
          ],
          [
           0.5555555555555556,
           "#cf4446"
          ],
          [
           0.6666666666666666,
           "#ed6925"
          ],
          [
           0.7777777777777778,
           "#fb9b06"
          ],
          [
           0.8888888888888888,
           "#f7d13d"
          ],
          [
           1,
           "#fcffa4"
          ]
         ],
         "type": "surface",
         "x": [
          0,
          1,
          2,
          3,
          4,
          5,
          6,
          7,
          8,
          9,
          10
         ],
         "y": [
          0.001,
          0.0109,
          0.020800000000000003,
          0.030700000000000005,
          0.040600000000000004,
          0.0505,
          0.06040000000000001,
          0.0703,
          0.08020000000000001,
          0.09010000000000001,
          0.1
         ],
         "z": [
          [
           null,
           null,
           null,
           null,
           null,
           null,
           null,
           null,
           null,
           null,
           null
          ],
          [
           0.6477777777777777,
           0.7677777777777778,
           0.7977777777777778,
           0.7977777777777778,
           0.8077777777777777,
           0.8077777777777777,
           0.8077777777777777,
           0.7977777777777778,
           0.7977777777777778,
           0.7977777777777778,
           0.7977777777777778
          ],
          [
           0.6977777777777777,
           0.7977777777777778,
           0.8177777777777779,
           0.8177777777777779,
           0.8177777777777779,
           0.8077777777777777,
           0.8188888888888888,
           0.8088888888888889,
           0.8088888888888889,
           0.8088888888888889,
           0.8088888888888889
          ],
          [
           0.7377777777777778,
           0.8177777777777779,
           0.8277777777777778,
           0.8177777777777779,
           0.8077777777777777,
           0.8088888888888889,
           0.8088888888888889,
           0.8188888888888888,
           0.8088888888888889,
           0.8188888888888888,
           0.82
          ],
          [
           0.7477777777777777,
           0.8177777777777779,
           0.8277777777777778,
           0.8077777777777777,
           0.8188888888888888,
           0.8188888888888888,
           0.8188888888888888,
           0.8188888888888888,
           0.82,
           0.82,
           0.82
          ],
          [
           0.7377777777777778,
           0.8277777777777778,
           0.8277777777777778,
           0.8188888888888888,
           0.8188888888888888,
           0.8188888888888888,
           0.8188888888888888,
           0.82,
           0.82,
           0.82,
           0.82
          ],
          [
           0.7477777777777777,
           0.8277777777777778,
           0.8277777777777778,
           0.8088888888888889,
           0.7877777777777778,
           0.7988888888888889,
           0.82,
           0.82,
           0.82,
           0.82,
           0.82
          ],
          [
           0.7577777777777778,
           0.8277777777777778,
           0.8288888888888888,
           0.7988888888888889,
           0.7877777777777778,
           0.8088888888888889,
           0.8100000000000002,
           0.8100000000000002,
           0.82,
           0.82,
           0.8
          ],
          [
           0.7577777777777778,
           0.8277777777777778,
           0.8288888888888888,
           0.7877777777777778,
           0.7988888888888889,
           0.82,
           0.8,
           0.8100000000000002,
           0.82,
           0.8,
           0.8100000000000002
          ],
          [
           0.7577777777777778,
           0.8277777777777778,
           0.8088888888888889,
           0.7877777777777778,
           0.7988888888888889,
           0.82,
           0.8,
           0.8100000000000002,
           0.82,
           0.8100000000000002,
           0.8100000000000002
          ],
          [
           0.7677777777777778,
           0.8277777777777778,
           0.8088888888888889,
           0.7877777777777778,
           0.8088888888888889,
           0.8,
           0.8,
           0.8100000000000002,
           0.8,
           0.8100000000000002,
           0.8100000000000002
          ]
         ]
        }
       ],
       "layout": {
        "scene": {
         "xaxis": {
          "title": {
           "text": "C"
          }
         },
         "yaxis": {
          "title": {
           "text": "Gamma"
          }
         },
         "zaxis": {
          "title": {
           "text": "Recall"
          }
         }
        },
        "template": {
         "data": {
          "bar": [
           {
            "error_x": {
             "color": "#f2f5fa"
            },
            "error_y": {
             "color": "#f2f5fa"
            },
            "marker": {
             "line": {
              "color": "rgb(17,17,17)",
              "width": 0.5
             },
             "pattern": {
              "fillmode": "overlay",
              "size": 10,
              "solidity": 0.2
             }
            },
            "type": "bar"
           }
          ],
          "barpolar": [
           {
            "marker": {
             "line": {
              "color": "rgb(17,17,17)",
              "width": 0.5
             },
             "pattern": {
              "fillmode": "overlay",
              "size": 10,
              "solidity": 0.2
             }
            },
            "type": "barpolar"
           }
          ],
          "carpet": [
           {
            "aaxis": {
             "endlinecolor": "#A2B1C6",
             "gridcolor": "#506784",
             "linecolor": "#506784",
             "minorgridcolor": "#506784",
             "startlinecolor": "#A2B1C6"
            },
            "baxis": {
             "endlinecolor": "#A2B1C6",
             "gridcolor": "#506784",
             "linecolor": "#506784",
             "minorgridcolor": "#506784",
             "startlinecolor": "#A2B1C6"
            },
            "type": "carpet"
           }
          ],
          "choropleth": [
           {
            "colorbar": {
             "outlinewidth": 0,
             "ticks": ""
            },
            "type": "choropleth"
           }
          ],
          "contour": [
           {
            "colorbar": {
             "outlinewidth": 0,
             "ticks": ""
            },
            "colorscale": [
             [
              0,
              "#0d0887"
             ],
             [
              0.1111111111111111,
              "#46039f"
             ],
             [
              0.2222222222222222,
              "#7201a8"
             ],
             [
              0.3333333333333333,
              "#9c179e"
             ],
             [
              0.4444444444444444,
              "#bd3786"
             ],
             [
              0.5555555555555556,
              "#d8576b"
             ],
             [
              0.6666666666666666,
              "#ed7953"
             ],
             [
              0.7777777777777778,
              "#fb9f3a"
             ],
             [
              0.8888888888888888,
              "#fdca26"
             ],
             [
              1,
              "#f0f921"
             ]
            ],
            "type": "contour"
           }
          ],
          "contourcarpet": [
           {
            "colorbar": {
             "outlinewidth": 0,
             "ticks": ""
            },
            "type": "contourcarpet"
           }
          ],
          "heatmap": [
           {
            "colorbar": {
             "outlinewidth": 0,
             "ticks": ""
            },
            "colorscale": [
             [
              0,
              "#0d0887"
             ],
             [
              0.1111111111111111,
              "#46039f"
             ],
             [
              0.2222222222222222,
              "#7201a8"
             ],
             [
              0.3333333333333333,
              "#9c179e"
             ],
             [
              0.4444444444444444,
              "#bd3786"
             ],
             [
              0.5555555555555556,
              "#d8576b"
             ],
             [
              0.6666666666666666,
              "#ed7953"
             ],
             [
              0.7777777777777778,
              "#fb9f3a"
             ],
             [
              0.8888888888888888,
              "#fdca26"
             ],
             [
              1,
              "#f0f921"
             ]
            ],
            "type": "heatmap"
           }
          ],
          "heatmapgl": [
           {
            "colorbar": {
             "outlinewidth": 0,
             "ticks": ""
            },
            "colorscale": [
             [
              0,
              "#0d0887"
             ],
             [
              0.1111111111111111,
              "#46039f"
             ],
             [
              0.2222222222222222,
              "#7201a8"
             ],
             [
              0.3333333333333333,
              "#9c179e"
             ],
             [
              0.4444444444444444,
              "#bd3786"
             ],
             [
              0.5555555555555556,
              "#d8576b"
             ],
             [
              0.6666666666666666,
              "#ed7953"
             ],
             [
              0.7777777777777778,
              "#fb9f3a"
             ],
             [
              0.8888888888888888,
              "#fdca26"
             ],
             [
              1,
              "#f0f921"
             ]
            ],
            "type": "heatmapgl"
           }
          ],
          "histogram": [
           {
            "marker": {
             "pattern": {
              "fillmode": "overlay",
              "size": 10,
              "solidity": 0.2
             }
            },
            "type": "histogram"
           }
          ],
          "histogram2d": [
           {
            "colorbar": {
             "outlinewidth": 0,
             "ticks": ""
            },
            "colorscale": [
             [
              0,
              "#0d0887"
             ],
             [
              0.1111111111111111,
              "#46039f"
             ],
             [
              0.2222222222222222,
              "#7201a8"
             ],
             [
              0.3333333333333333,
              "#9c179e"
             ],
             [
              0.4444444444444444,
              "#bd3786"
             ],
             [
              0.5555555555555556,
              "#d8576b"
             ],
             [
              0.6666666666666666,
              "#ed7953"
             ],
             [
              0.7777777777777778,
              "#fb9f3a"
             ],
             [
              0.8888888888888888,
              "#fdca26"
             ],
             [
              1,
              "#f0f921"
             ]
            ],
            "type": "histogram2d"
           }
          ],
          "histogram2dcontour": [
           {
            "colorbar": {
             "outlinewidth": 0,
             "ticks": ""
            },
            "colorscale": [
             [
              0,
              "#0d0887"
             ],
             [
              0.1111111111111111,
              "#46039f"
             ],
             [
              0.2222222222222222,
              "#7201a8"
             ],
             [
              0.3333333333333333,
              "#9c179e"
             ],
             [
              0.4444444444444444,
              "#bd3786"
             ],
             [
              0.5555555555555556,
              "#d8576b"
             ],
             [
              0.6666666666666666,
              "#ed7953"
             ],
             [
              0.7777777777777778,
              "#fb9f3a"
             ],
             [
              0.8888888888888888,
              "#fdca26"
             ],
             [
              1,
              "#f0f921"
             ]
            ],
            "type": "histogram2dcontour"
           }
          ],
          "mesh3d": [
           {
            "colorbar": {
             "outlinewidth": 0,
             "ticks": ""
            },
            "type": "mesh3d"
           }
          ],
          "parcoords": [
           {
            "line": {
             "colorbar": {
              "outlinewidth": 0,
              "ticks": ""
             }
            },
            "type": "parcoords"
           }
          ],
          "pie": [
           {
            "automargin": true,
            "type": "pie"
           }
          ],
          "scatter": [
           {
            "marker": {
             "line": {
              "color": "#283442"
             }
            },
            "type": "scatter"
           }
          ],
          "scatter3d": [
           {
            "line": {
             "colorbar": {
              "outlinewidth": 0,
              "ticks": ""
             }
            },
            "marker": {
             "colorbar": {
              "outlinewidth": 0,
              "ticks": ""
             }
            },
            "type": "scatter3d"
           }
          ],
          "scattercarpet": [
           {
            "marker": {
             "colorbar": {
              "outlinewidth": 0,
              "ticks": ""
             }
            },
            "type": "scattercarpet"
           }
          ],
          "scattergeo": [
           {
            "marker": {
             "colorbar": {
              "outlinewidth": 0,
              "ticks": ""
             }
            },
            "type": "scattergeo"
           }
          ],
          "scattergl": [
           {
            "marker": {
             "line": {
              "color": "#283442"
             }
            },
            "type": "scattergl"
           }
          ],
          "scattermapbox": [
           {
            "marker": {
             "colorbar": {
              "outlinewidth": 0,
              "ticks": ""
             }
            },
            "type": "scattermapbox"
           }
          ],
          "scatterpolar": [
           {
            "marker": {
             "colorbar": {
              "outlinewidth": 0,
              "ticks": ""
             }
            },
            "type": "scatterpolar"
           }
          ],
          "scatterpolargl": [
           {
            "marker": {
             "colorbar": {
              "outlinewidth": 0,
              "ticks": ""
             }
            },
            "type": "scatterpolargl"
           }
          ],
          "scatterternary": [
           {
            "marker": {
             "colorbar": {
              "outlinewidth": 0,
              "ticks": ""
             }
            },
            "type": "scatterternary"
           }
          ],
          "surface": [
           {
            "colorbar": {
             "outlinewidth": 0,
             "ticks": ""
            },
            "colorscale": [
             [
              0,
              "#0d0887"
             ],
             [
              0.1111111111111111,
              "#46039f"
             ],
             [
              0.2222222222222222,
              "#7201a8"
             ],
             [
              0.3333333333333333,
              "#9c179e"
             ],
             [
              0.4444444444444444,
              "#bd3786"
             ],
             [
              0.5555555555555556,
              "#d8576b"
             ],
             [
              0.6666666666666666,
              "#ed7953"
             ],
             [
              0.7777777777777778,
              "#fb9f3a"
             ],
             [
              0.8888888888888888,
              "#fdca26"
             ],
             [
              1,
              "#f0f921"
             ]
            ],
            "type": "surface"
           }
          ],
          "table": [
           {
            "cells": {
             "fill": {
              "color": "#506784"
             },
             "line": {
              "color": "rgb(17,17,17)"
             }
            },
            "header": {
             "fill": {
              "color": "#2a3f5f"
             },
             "line": {
              "color": "rgb(17,17,17)"
             }
            },
            "type": "table"
           }
          ]
         },
         "layout": {
          "annotationdefaults": {
           "arrowcolor": "#f2f5fa",
           "arrowhead": 0,
           "arrowwidth": 1
          },
          "autotypenumbers": "strict",
          "coloraxis": {
           "colorbar": {
            "outlinewidth": 0,
            "ticks": ""
           }
          },
          "colorscale": {
           "diverging": [
            [
             0,
             "#8e0152"
            ],
            [
             0.1,
             "#c51b7d"
            ],
            [
             0.2,
             "#de77ae"
            ],
            [
             0.3,
             "#f1b6da"
            ],
            [
             0.4,
             "#fde0ef"
            ],
            [
             0.5,
             "#f7f7f7"
            ],
            [
             0.6,
             "#e6f5d0"
            ],
            [
             0.7,
             "#b8e186"
            ],
            [
             0.8,
             "#7fbc41"
            ],
            [
             0.9,
             "#4d9221"
            ],
            [
             1,
             "#276419"
            ]
           ],
           "sequential": [
            [
             0,
             "#0d0887"
            ],
            [
             0.1111111111111111,
             "#46039f"
            ],
            [
             0.2222222222222222,
             "#7201a8"
            ],
            [
             0.3333333333333333,
             "#9c179e"
            ],
            [
             0.4444444444444444,
             "#bd3786"
            ],
            [
             0.5555555555555556,
             "#d8576b"
            ],
            [
             0.6666666666666666,
             "#ed7953"
            ],
            [
             0.7777777777777778,
             "#fb9f3a"
            ],
            [
             0.8888888888888888,
             "#fdca26"
            ],
            [
             1,
             "#f0f921"
            ]
           ],
           "sequentialminus": [
            [
             0,
             "#0d0887"
            ],
            [
             0.1111111111111111,
             "#46039f"
            ],
            [
             0.2222222222222222,
             "#7201a8"
            ],
            [
             0.3333333333333333,
             "#9c179e"
            ],
            [
             0.4444444444444444,
             "#bd3786"
            ],
            [
             0.5555555555555556,
             "#d8576b"
            ],
            [
             0.6666666666666666,
             "#ed7953"
            ],
            [
             0.7777777777777778,
             "#fb9f3a"
            ],
            [
             0.8888888888888888,
             "#fdca26"
            ],
            [
             1,
             "#f0f921"
            ]
           ]
          },
          "colorway": [
           "#636efa",
           "#EF553B",
           "#00cc96",
           "#ab63fa",
           "#FFA15A",
           "#19d3f3",
           "#FF6692",
           "#B6E880",
           "#FF97FF",
           "#FECB52"
          ],
          "font": {
           "color": "#f2f5fa"
          },
          "geo": {
           "bgcolor": "rgb(17,17,17)",
           "lakecolor": "rgb(17,17,17)",
           "landcolor": "rgb(17,17,17)",
           "showlakes": true,
           "showland": true,
           "subunitcolor": "#506784"
          },
          "hoverlabel": {
           "align": "left"
          },
          "hovermode": "closest",
          "mapbox": {
           "style": "dark"
          },
          "paper_bgcolor": "rgb(17,17,17)",
          "plot_bgcolor": "rgb(17,17,17)",
          "polar": {
           "angularaxis": {
            "gridcolor": "#506784",
            "linecolor": "#506784",
            "ticks": ""
           },
           "bgcolor": "rgb(17,17,17)",
           "radialaxis": {
            "gridcolor": "#506784",
            "linecolor": "#506784",
            "ticks": ""
           }
          },
          "scene": {
           "xaxis": {
            "backgroundcolor": "rgb(17,17,17)",
            "gridcolor": "#506784",
            "gridwidth": 2,
            "linecolor": "#506784",
            "showbackground": true,
            "ticks": "",
            "zerolinecolor": "#C8D4E3"
           },
           "yaxis": {
            "backgroundcolor": "rgb(17,17,17)",
            "gridcolor": "#506784",
            "gridwidth": 2,
            "linecolor": "#506784",
            "showbackground": true,
            "ticks": "",
            "zerolinecolor": "#C8D4E3"
           },
           "zaxis": {
            "backgroundcolor": "rgb(17,17,17)",
            "gridcolor": "#506784",
            "gridwidth": 2,
            "linecolor": "#506784",
            "showbackground": true,
            "ticks": "",
            "zerolinecolor": "#C8D4E3"
           }
          },
          "shapedefaults": {
           "line": {
            "color": "#f2f5fa"
           }
          },
          "sliderdefaults": {
           "bgcolor": "#C8D4E3",
           "bordercolor": "rgb(17,17,17)",
           "borderwidth": 1,
           "tickwidth": 0
          },
          "ternary": {
           "aaxis": {
            "gridcolor": "#506784",
            "linecolor": "#506784",
            "ticks": ""
           },
           "baxis": {
            "gridcolor": "#506784",
            "linecolor": "#506784",
            "ticks": ""
           },
           "bgcolor": "rgb(17,17,17)",
           "caxis": {
            "gridcolor": "#506784",
            "linecolor": "#506784",
            "ticks": ""
           }
          },
          "title": {
           "x": 0.05
          },
          "updatemenudefaults": {
           "bgcolor": "#506784",
           "borderwidth": 0
          },
          "xaxis": {
           "automargin": true,
           "gridcolor": "#283442",
           "linecolor": "#506784",
           "ticks": "",
           "title": {
            "standoff": 15
           },
           "zerolinecolor": "#283442",
           "zerolinewidth": 2
          },
          "yaxis": {
           "automargin": true,
           "gridcolor": "#283442",
           "linecolor": "#506784",
           "ticks": "",
           "title": {
            "standoff": 15
           },
           "zerolinecolor": "#283442",
           "zerolinewidth": 2
          }
         }
        },
        "title": {
         "text": "Recall en función de C y Gamma"
        }
       }
      }
     },
     "metadata": {},
     "output_type": "display_data"
    }
   ],
   "source": [
    "import plotly.graph_objects as go\n",
    "import plotly.io as pio\n",
    "pio.templates.default = \"plotly_dark\"\n",
    "\n",
    "# Crear gráfico interactivo\n",
    "fig = go.Figure(data=[go.Surface(z=recall_grid, x=C_unique, y=gamma_unique, colorscale='Inferno')]) #Prueba con Inferno, Magma y Jet\n",
    "\n",
    "# Etiquetas\n",
    "fig.update_layout(\n",
    "    title='Recall en función de C y Gamma',\n",
    "    scene=dict(\n",
    "        xaxis_title='C',\n",
    "        yaxis_title='Gamma',\n",
    "        zaxis_title='Recall'\n",
    "    )\n",
    ")\n",
    "\n",
    "fig.show()"
   ]
  },
  {
   "cell_type": "code",
   "execution_count": 111,
   "metadata": {},
   "outputs": [
    {
     "data": {
      "application/vnd.plotly.v1+json": {
       "config": {
        "plotlyServerURL": "https://plot.ly"
       },
       "data": [
        {
         "hovertemplate": "C=%{x}<br>Gamma=%{y}<br>Recall=%{marker.color}<extra></extra>",
         "legendgroup": "",
         "marker": {
          "color": [
           null,
           null,
           null,
           null,
           null,
           null,
           null,
           null,
           null,
           null,
           null,
           0.6477777777777777,
           0.7677777777777778,
           0.7977777777777778,
           0.7977777777777778,
           0.8077777777777777,
           0.8077777777777777,
           0.8077777777777777,
           0.7977777777777778,
           0.7977777777777778,
           0.7977777777777778,
           0.7977777777777778,
           0.6977777777777777,
           0.7977777777777778,
           0.8177777777777779,
           0.8177777777777779,
           0.8177777777777779,
           0.8077777777777777,
           0.8188888888888888,
           0.8088888888888889,
           0.8088888888888889,
           0.8088888888888889,
           0.8088888888888889,
           0.7377777777777778,
           0.8177777777777779,
           0.8277777777777778,
           0.8177777777777779,
           0.8077777777777777,
           0.8088888888888889,
           0.8088888888888889,
           0.8188888888888888,
           0.8088888888888889,
           0.8188888888888888,
           0.82,
           0.7477777777777777,
           0.8177777777777779,
           0.8277777777777778,
           0.8077777777777777,
           0.8188888888888888,
           0.8188888888888888,
           0.8188888888888888,
           0.8188888888888888,
           0.82,
           0.82,
           0.82,
           0.7377777777777778,
           0.8277777777777778,
           0.8277777777777778,
           0.8188888888888888,
           0.8188888888888888,
           0.8188888888888888,
           0.8188888888888888,
           0.82,
           0.82,
           0.82,
           0.82,
           0.7477777777777777,
           0.8277777777777778,
           0.8277777777777778,
           0.8088888888888889,
           0.7877777777777778,
           0.7988888888888889,
           0.82,
           0.82,
           0.82,
           0.82,
           0.82,
           0.7577777777777778,
           0.8277777777777778,
           0.8288888888888888,
           0.7988888888888889,
           0.7877777777777778,
           0.8088888888888889,
           0.8100000000000002,
           0.8100000000000002,
           0.82,
           0.82,
           0.8,
           0.7577777777777778,
           0.8277777777777778,
           0.8288888888888888,
           0.7877777777777778,
           0.7988888888888889,
           0.82,
           0.8,
           0.8100000000000002,
           0.82,
           0.8,
           0.8100000000000002,
           0.7577777777777778,
           0.8277777777777778,
           0.8088888888888889,
           0.7877777777777778,
           0.7988888888888889,
           0.82,
           0.8,
           0.8100000000000002,
           0.82,
           0.8100000000000002,
           0.8100000000000002,
           0.7677777777777778,
           0.8277777777777778,
           0.8088888888888889,
           0.7877777777777778,
           0.8088888888888889,
           0.8,
           0.8,
           0.8100000000000002,
           0.8,
           0.8100000000000002,
           0.8100000000000002
          ],
          "coloraxis": "coloraxis",
          "symbol": "circle"
         },
         "mode": "markers",
         "name": "",
         "scene": "scene",
         "showlegend": false,
         "type": "scatter3d",
         "x": [
          0,
          0,
          0,
          0,
          0,
          0,
          0,
          0,
          0,
          0,
          0,
          1,
          1,
          1,
          1,
          1,
          1,
          1,
          1,
          1,
          1,
          1,
          2,
          2,
          2,
          2,
          2,
          2,
          2,
          2,
          2,
          2,
          2,
          3,
          3,
          3,
          3,
          3,
          3,
          3,
          3,
          3,
          3,
          3,
          4,
          4,
          4,
          4,
          4,
          4,
          4,
          4,
          4,
          4,
          4,
          5,
          5,
          5,
          5,
          5,
          5,
          5,
          5,
          5,
          5,
          5,
          6,
          6,
          6,
          6,
          6,
          6,
          6,
          6,
          6,
          6,
          6,
          7,
          7,
          7,
          7,
          7,
          7,
          7,
          7,
          7,
          7,
          7,
          8,
          8,
          8,
          8,
          8,
          8,
          8,
          8,
          8,
          8,
          8,
          9,
          9,
          9,
          9,
          9,
          9,
          9,
          9,
          9,
          9,
          9,
          10,
          10,
          10,
          10,
          10,
          10,
          10,
          10,
          10,
          10,
          10
         ],
         "y": [
          0.001,
          0.0109,
          0.020800000000000003,
          0.030700000000000005,
          0.040600000000000004,
          0.0505,
          0.06040000000000001,
          0.0703,
          0.08020000000000001,
          0.09010000000000001,
          0.1,
          0.001,
          0.0109,
          0.020800000000000003,
          0.030700000000000005,
          0.040600000000000004,
          0.0505,
          0.06040000000000001,
          0.0703,
          0.08020000000000001,
          0.09010000000000001,
          0.1,
          0.001,
          0.0109,
          0.020800000000000003,
          0.030700000000000005,
          0.040600000000000004,
          0.0505,
          0.06040000000000001,
          0.0703,
          0.08020000000000001,
          0.09010000000000001,
          0.1,
          0.001,
          0.0109,
          0.020800000000000003,
          0.030700000000000005,
          0.040600000000000004,
          0.0505,
          0.06040000000000001,
          0.0703,
          0.08020000000000001,
          0.09010000000000001,
          0.1,
          0.001,
          0.0109,
          0.020800000000000003,
          0.030700000000000005,
          0.040600000000000004,
          0.0505,
          0.06040000000000001,
          0.0703,
          0.08020000000000001,
          0.09010000000000001,
          0.1,
          0.001,
          0.0109,
          0.020800000000000003,
          0.030700000000000005,
          0.040600000000000004,
          0.0505,
          0.06040000000000001,
          0.0703,
          0.08020000000000001,
          0.09010000000000001,
          0.1,
          0.001,
          0.0109,
          0.020800000000000003,
          0.030700000000000005,
          0.040600000000000004,
          0.0505,
          0.06040000000000001,
          0.0703,
          0.08020000000000001,
          0.09010000000000001,
          0.1,
          0.001,
          0.0109,
          0.020800000000000003,
          0.030700000000000005,
          0.040600000000000004,
          0.0505,
          0.06040000000000001,
          0.0703,
          0.08020000000000001,
          0.09010000000000001,
          0.1,
          0.001,
          0.0109,
          0.020800000000000003,
          0.030700000000000005,
          0.040600000000000004,
          0.0505,
          0.06040000000000001,
          0.0703,
          0.08020000000000001,
          0.09010000000000001,
          0.1,
          0.001,
          0.0109,
          0.020800000000000003,
          0.030700000000000005,
          0.040600000000000004,
          0.0505,
          0.06040000000000001,
          0.0703,
          0.08020000000000001,
          0.09010000000000001,
          0.1,
          0.001,
          0.0109,
          0.020800000000000003,
          0.030700000000000005,
          0.040600000000000004,
          0.0505,
          0.06040000000000001,
          0.0703,
          0.08020000000000001,
          0.09010000000000001,
          0.1
         ],
         "z": [
          null,
          null,
          null,
          null,
          null,
          null,
          null,
          null,
          null,
          null,
          null,
          0.6477777777777777,
          0.7677777777777778,
          0.7977777777777778,
          0.7977777777777778,
          0.8077777777777777,
          0.8077777777777777,
          0.8077777777777777,
          0.7977777777777778,
          0.7977777777777778,
          0.7977777777777778,
          0.7977777777777778,
          0.6977777777777777,
          0.7977777777777778,
          0.8177777777777779,
          0.8177777777777779,
          0.8177777777777779,
          0.8077777777777777,
          0.8188888888888888,
          0.8088888888888889,
          0.8088888888888889,
          0.8088888888888889,
          0.8088888888888889,
          0.7377777777777778,
          0.8177777777777779,
          0.8277777777777778,
          0.8177777777777779,
          0.8077777777777777,
          0.8088888888888889,
          0.8088888888888889,
          0.8188888888888888,
          0.8088888888888889,
          0.8188888888888888,
          0.82,
          0.7477777777777777,
          0.8177777777777779,
          0.8277777777777778,
          0.8077777777777777,
          0.8188888888888888,
          0.8188888888888888,
          0.8188888888888888,
          0.8188888888888888,
          0.82,
          0.82,
          0.82,
          0.7377777777777778,
          0.8277777777777778,
          0.8277777777777778,
          0.8188888888888888,
          0.8188888888888888,
          0.8188888888888888,
          0.8188888888888888,
          0.82,
          0.82,
          0.82,
          0.82,
          0.7477777777777777,
          0.8277777777777778,
          0.8277777777777778,
          0.8088888888888889,
          0.7877777777777778,
          0.7988888888888889,
          0.82,
          0.82,
          0.82,
          0.82,
          0.82,
          0.7577777777777778,
          0.8277777777777778,
          0.8288888888888888,
          0.7988888888888889,
          0.7877777777777778,
          0.8088888888888889,
          0.8100000000000002,
          0.8100000000000002,
          0.82,
          0.82,
          0.8,
          0.7577777777777778,
          0.8277777777777778,
          0.8288888888888888,
          0.7877777777777778,
          0.7988888888888889,
          0.82,
          0.8,
          0.8100000000000002,
          0.82,
          0.8,
          0.8100000000000002,
          0.7577777777777778,
          0.8277777777777778,
          0.8088888888888889,
          0.7877777777777778,
          0.7988888888888889,
          0.82,
          0.8,
          0.8100000000000002,
          0.82,
          0.8100000000000002,
          0.8100000000000002,
          0.7677777777777778,
          0.8277777777777778,
          0.8088888888888889,
          0.7877777777777778,
          0.8088888888888889,
          0.8,
          0.8,
          0.8100000000000002,
          0.8,
          0.8100000000000002,
          0.8100000000000002
         ]
        }
       ],
       "layout": {
        "coloraxis": {
         "colorbar": {
          "title": {
           "text": "Recall"
          }
         },
         "colorscale": [
          [
           0,
           "rgb(0,0,131)"
          ],
          [
           0.2,
           "rgb(0,60,170)"
          ],
          [
           0.4,
           "rgb(5,255,255)"
          ],
          [
           0.6,
           "rgb(255,255,0)"
          ],
          [
           0.8,
           "rgb(250,0,0)"
          ],
          [
           1,
           "rgb(128,0,0)"
          ]
         ]
        },
        "legend": {
         "tracegroupgap": 0
        },
        "scene": {
         "domain": {
          "x": [
           0,
           1
          ],
          "y": [
           0,
           1
          ]
         },
         "xaxis": {
          "title": {
           "text": "C"
          }
         },
         "yaxis": {
          "title": {
           "text": "Gamma"
          }
         },
         "zaxis": {
          "title": {
           "text": "Recall"
          }
         }
        },
        "template": {
         "data": {
          "bar": [
           {
            "error_x": {
             "color": "#f2f5fa"
            },
            "error_y": {
             "color": "#f2f5fa"
            },
            "marker": {
             "line": {
              "color": "rgb(17,17,17)",
              "width": 0.5
             },
             "pattern": {
              "fillmode": "overlay",
              "size": 10,
              "solidity": 0.2
             }
            },
            "type": "bar"
           }
          ],
          "barpolar": [
           {
            "marker": {
             "line": {
              "color": "rgb(17,17,17)",
              "width": 0.5
             },
             "pattern": {
              "fillmode": "overlay",
              "size": 10,
              "solidity": 0.2
             }
            },
            "type": "barpolar"
           }
          ],
          "carpet": [
           {
            "aaxis": {
             "endlinecolor": "#A2B1C6",
             "gridcolor": "#506784",
             "linecolor": "#506784",
             "minorgridcolor": "#506784",
             "startlinecolor": "#A2B1C6"
            },
            "baxis": {
             "endlinecolor": "#A2B1C6",
             "gridcolor": "#506784",
             "linecolor": "#506784",
             "minorgridcolor": "#506784",
             "startlinecolor": "#A2B1C6"
            },
            "type": "carpet"
           }
          ],
          "choropleth": [
           {
            "colorbar": {
             "outlinewidth": 0,
             "ticks": ""
            },
            "type": "choropleth"
           }
          ],
          "contour": [
           {
            "colorbar": {
             "outlinewidth": 0,
             "ticks": ""
            },
            "colorscale": [
             [
              0,
              "#0d0887"
             ],
             [
              0.1111111111111111,
              "#46039f"
             ],
             [
              0.2222222222222222,
              "#7201a8"
             ],
             [
              0.3333333333333333,
              "#9c179e"
             ],
             [
              0.4444444444444444,
              "#bd3786"
             ],
             [
              0.5555555555555556,
              "#d8576b"
             ],
             [
              0.6666666666666666,
              "#ed7953"
             ],
             [
              0.7777777777777778,
              "#fb9f3a"
             ],
             [
              0.8888888888888888,
              "#fdca26"
             ],
             [
              1,
              "#f0f921"
             ]
            ],
            "type": "contour"
           }
          ],
          "contourcarpet": [
           {
            "colorbar": {
             "outlinewidth": 0,
             "ticks": ""
            },
            "type": "contourcarpet"
           }
          ],
          "heatmap": [
           {
            "colorbar": {
             "outlinewidth": 0,
             "ticks": ""
            },
            "colorscale": [
             [
              0,
              "#0d0887"
             ],
             [
              0.1111111111111111,
              "#46039f"
             ],
             [
              0.2222222222222222,
              "#7201a8"
             ],
             [
              0.3333333333333333,
              "#9c179e"
             ],
             [
              0.4444444444444444,
              "#bd3786"
             ],
             [
              0.5555555555555556,
              "#d8576b"
             ],
             [
              0.6666666666666666,
              "#ed7953"
             ],
             [
              0.7777777777777778,
              "#fb9f3a"
             ],
             [
              0.8888888888888888,
              "#fdca26"
             ],
             [
              1,
              "#f0f921"
             ]
            ],
            "type": "heatmap"
           }
          ],
          "heatmapgl": [
           {
            "colorbar": {
             "outlinewidth": 0,
             "ticks": ""
            },
            "colorscale": [
             [
              0,
              "#0d0887"
             ],
             [
              0.1111111111111111,
              "#46039f"
             ],
             [
              0.2222222222222222,
              "#7201a8"
             ],
             [
              0.3333333333333333,
              "#9c179e"
             ],
             [
              0.4444444444444444,
              "#bd3786"
             ],
             [
              0.5555555555555556,
              "#d8576b"
             ],
             [
              0.6666666666666666,
              "#ed7953"
             ],
             [
              0.7777777777777778,
              "#fb9f3a"
             ],
             [
              0.8888888888888888,
              "#fdca26"
             ],
             [
              1,
              "#f0f921"
             ]
            ],
            "type": "heatmapgl"
           }
          ],
          "histogram": [
           {
            "marker": {
             "pattern": {
              "fillmode": "overlay",
              "size": 10,
              "solidity": 0.2
             }
            },
            "type": "histogram"
           }
          ],
          "histogram2d": [
           {
            "colorbar": {
             "outlinewidth": 0,
             "ticks": ""
            },
            "colorscale": [
             [
              0,
              "#0d0887"
             ],
             [
              0.1111111111111111,
              "#46039f"
             ],
             [
              0.2222222222222222,
              "#7201a8"
             ],
             [
              0.3333333333333333,
              "#9c179e"
             ],
             [
              0.4444444444444444,
              "#bd3786"
             ],
             [
              0.5555555555555556,
              "#d8576b"
             ],
             [
              0.6666666666666666,
              "#ed7953"
             ],
             [
              0.7777777777777778,
              "#fb9f3a"
             ],
             [
              0.8888888888888888,
              "#fdca26"
             ],
             [
              1,
              "#f0f921"
             ]
            ],
            "type": "histogram2d"
           }
          ],
          "histogram2dcontour": [
           {
            "colorbar": {
             "outlinewidth": 0,
             "ticks": ""
            },
            "colorscale": [
             [
              0,
              "#0d0887"
             ],
             [
              0.1111111111111111,
              "#46039f"
             ],
             [
              0.2222222222222222,
              "#7201a8"
             ],
             [
              0.3333333333333333,
              "#9c179e"
             ],
             [
              0.4444444444444444,
              "#bd3786"
             ],
             [
              0.5555555555555556,
              "#d8576b"
             ],
             [
              0.6666666666666666,
              "#ed7953"
             ],
             [
              0.7777777777777778,
              "#fb9f3a"
             ],
             [
              0.8888888888888888,
              "#fdca26"
             ],
             [
              1,
              "#f0f921"
             ]
            ],
            "type": "histogram2dcontour"
           }
          ],
          "mesh3d": [
           {
            "colorbar": {
             "outlinewidth": 0,
             "ticks": ""
            },
            "type": "mesh3d"
           }
          ],
          "parcoords": [
           {
            "line": {
             "colorbar": {
              "outlinewidth": 0,
              "ticks": ""
             }
            },
            "type": "parcoords"
           }
          ],
          "pie": [
           {
            "automargin": true,
            "type": "pie"
           }
          ],
          "scatter": [
           {
            "marker": {
             "line": {
              "color": "#283442"
             }
            },
            "type": "scatter"
           }
          ],
          "scatter3d": [
           {
            "line": {
             "colorbar": {
              "outlinewidth": 0,
              "ticks": ""
             }
            },
            "marker": {
             "colorbar": {
              "outlinewidth": 0,
              "ticks": ""
             }
            },
            "type": "scatter3d"
           }
          ],
          "scattercarpet": [
           {
            "marker": {
             "colorbar": {
              "outlinewidth": 0,
              "ticks": ""
             }
            },
            "type": "scattercarpet"
           }
          ],
          "scattergeo": [
           {
            "marker": {
             "colorbar": {
              "outlinewidth": 0,
              "ticks": ""
             }
            },
            "type": "scattergeo"
           }
          ],
          "scattergl": [
           {
            "marker": {
             "line": {
              "color": "#283442"
             }
            },
            "type": "scattergl"
           }
          ],
          "scattermapbox": [
           {
            "marker": {
             "colorbar": {
              "outlinewidth": 0,
              "ticks": ""
             }
            },
            "type": "scattermapbox"
           }
          ],
          "scatterpolar": [
           {
            "marker": {
             "colorbar": {
              "outlinewidth": 0,
              "ticks": ""
             }
            },
            "type": "scatterpolar"
           }
          ],
          "scatterpolargl": [
           {
            "marker": {
             "colorbar": {
              "outlinewidth": 0,
              "ticks": ""
             }
            },
            "type": "scatterpolargl"
           }
          ],
          "scatterternary": [
           {
            "marker": {
             "colorbar": {
              "outlinewidth": 0,
              "ticks": ""
             }
            },
            "type": "scatterternary"
           }
          ],
          "surface": [
           {
            "colorbar": {
             "outlinewidth": 0,
             "ticks": ""
            },
            "colorscale": [
             [
              0,
              "#0d0887"
             ],
             [
              0.1111111111111111,
              "#46039f"
             ],
             [
              0.2222222222222222,
              "#7201a8"
             ],
             [
              0.3333333333333333,
              "#9c179e"
             ],
             [
              0.4444444444444444,
              "#bd3786"
             ],
             [
              0.5555555555555556,
              "#d8576b"
             ],
             [
              0.6666666666666666,
              "#ed7953"
             ],
             [
              0.7777777777777778,
              "#fb9f3a"
             ],
             [
              0.8888888888888888,
              "#fdca26"
             ],
             [
              1,
              "#f0f921"
             ]
            ],
            "type": "surface"
           }
          ],
          "table": [
           {
            "cells": {
             "fill": {
              "color": "#506784"
             },
             "line": {
              "color": "rgb(17,17,17)"
             }
            },
            "header": {
             "fill": {
              "color": "#2a3f5f"
             },
             "line": {
              "color": "rgb(17,17,17)"
             }
            },
            "type": "table"
           }
          ]
         },
         "layout": {
          "annotationdefaults": {
           "arrowcolor": "#f2f5fa",
           "arrowhead": 0,
           "arrowwidth": 1
          },
          "autotypenumbers": "strict",
          "coloraxis": {
           "colorbar": {
            "outlinewidth": 0,
            "ticks": ""
           }
          },
          "colorscale": {
           "diverging": [
            [
             0,
             "#8e0152"
            ],
            [
             0.1,
             "#c51b7d"
            ],
            [
             0.2,
             "#de77ae"
            ],
            [
             0.3,
             "#f1b6da"
            ],
            [
             0.4,
             "#fde0ef"
            ],
            [
             0.5,
             "#f7f7f7"
            ],
            [
             0.6,
             "#e6f5d0"
            ],
            [
             0.7,
             "#b8e186"
            ],
            [
             0.8,
             "#7fbc41"
            ],
            [
             0.9,
             "#4d9221"
            ],
            [
             1,
             "#276419"
            ]
           ],
           "sequential": [
            [
             0,
             "#0d0887"
            ],
            [
             0.1111111111111111,
             "#46039f"
            ],
            [
             0.2222222222222222,
             "#7201a8"
            ],
            [
             0.3333333333333333,
             "#9c179e"
            ],
            [
             0.4444444444444444,
             "#bd3786"
            ],
            [
             0.5555555555555556,
             "#d8576b"
            ],
            [
             0.6666666666666666,
             "#ed7953"
            ],
            [
             0.7777777777777778,
             "#fb9f3a"
            ],
            [
             0.8888888888888888,
             "#fdca26"
            ],
            [
             1,
             "#f0f921"
            ]
           ],
           "sequentialminus": [
            [
             0,
             "#0d0887"
            ],
            [
             0.1111111111111111,
             "#46039f"
            ],
            [
             0.2222222222222222,
             "#7201a8"
            ],
            [
             0.3333333333333333,
             "#9c179e"
            ],
            [
             0.4444444444444444,
             "#bd3786"
            ],
            [
             0.5555555555555556,
             "#d8576b"
            ],
            [
             0.6666666666666666,
             "#ed7953"
            ],
            [
             0.7777777777777778,
             "#fb9f3a"
            ],
            [
             0.8888888888888888,
             "#fdca26"
            ],
            [
             1,
             "#f0f921"
            ]
           ]
          },
          "colorway": [
           "#636efa",
           "#EF553B",
           "#00cc96",
           "#ab63fa",
           "#FFA15A",
           "#19d3f3",
           "#FF6692",
           "#B6E880",
           "#FF97FF",
           "#FECB52"
          ],
          "font": {
           "color": "#f2f5fa"
          },
          "geo": {
           "bgcolor": "rgb(17,17,17)",
           "lakecolor": "rgb(17,17,17)",
           "landcolor": "rgb(17,17,17)",
           "showlakes": true,
           "showland": true,
           "subunitcolor": "#506784"
          },
          "hoverlabel": {
           "align": "left"
          },
          "hovermode": "closest",
          "mapbox": {
           "style": "dark"
          },
          "paper_bgcolor": "rgb(17,17,17)",
          "plot_bgcolor": "rgb(17,17,17)",
          "polar": {
           "angularaxis": {
            "gridcolor": "#506784",
            "linecolor": "#506784",
            "ticks": ""
           },
           "bgcolor": "rgb(17,17,17)",
           "radialaxis": {
            "gridcolor": "#506784",
            "linecolor": "#506784",
            "ticks": ""
           }
          },
          "scene": {
           "xaxis": {
            "backgroundcolor": "rgb(17,17,17)",
            "gridcolor": "#506784",
            "gridwidth": 2,
            "linecolor": "#506784",
            "showbackground": true,
            "ticks": "",
            "zerolinecolor": "#C8D4E3"
           },
           "yaxis": {
            "backgroundcolor": "rgb(17,17,17)",
            "gridcolor": "#506784",
            "gridwidth": 2,
            "linecolor": "#506784",
            "showbackground": true,
            "ticks": "",
            "zerolinecolor": "#C8D4E3"
           },
           "zaxis": {
            "backgroundcolor": "rgb(17,17,17)",
            "gridcolor": "#506784",
            "gridwidth": 2,
            "linecolor": "#506784",
            "showbackground": true,
            "ticks": "",
            "zerolinecolor": "#C8D4E3"
           }
          },
          "shapedefaults": {
           "line": {
            "color": "#f2f5fa"
           }
          },
          "sliderdefaults": {
           "bgcolor": "#C8D4E3",
           "bordercolor": "rgb(17,17,17)",
           "borderwidth": 1,
           "tickwidth": 0
          },
          "ternary": {
           "aaxis": {
            "gridcolor": "#506784",
            "linecolor": "#506784",
            "ticks": ""
           },
           "baxis": {
            "gridcolor": "#506784",
            "linecolor": "#506784",
            "ticks": ""
           },
           "bgcolor": "rgb(17,17,17)",
           "caxis": {
            "gridcolor": "#506784",
            "linecolor": "#506784",
            "ticks": ""
           }
          },
          "title": {
           "x": 0.05
          },
          "updatemenudefaults": {
           "bgcolor": "#506784",
           "borderwidth": 0
          },
          "xaxis": {
           "automargin": true,
           "gridcolor": "#283442",
           "linecolor": "#506784",
           "ticks": "",
           "title": {
            "standoff": 15
           },
           "zerolinecolor": "#283442",
           "zerolinewidth": 2
          },
          "yaxis": {
           "automargin": true,
           "gridcolor": "#283442",
           "linecolor": "#506784",
           "ticks": "",
           "title": {
            "standoff": 15
           },
           "zerolinecolor": "#283442",
           "zerolinewidth": 2
          }
         }
        },
        "title": {
         "text": "Recall en función de C y Gamma"
        }
       }
      }
     },
     "metadata": {},
     "output_type": "display_data"
    }
   ],
   "source": [
    "import plotly.express as px\n",
    "import pandas as pd\n",
    "\n",
    "# Crear DataFrame\n",
    "df_plotly = pd.DataFrame({\n",
    "    'C': C_values,\n",
    "    'Gamma': gamma_values,\n",
    "    'Recall': recall_scores\n",
    "})\n",
    "\n",
    "# Gráfico Scatter 3D interactivo\n",
    "fig = px.scatter_3d(df_plotly, x='C', y='Gamma', z='Recall', color='Recall', title='Recall en función de C y Gamma', color_continuous_scale='Jet')\n",
    "fig.show()"
   ]
  },
  {
   "cell_type": "markdown",
   "metadata": {},
   "source": [
    "Tras todas estas gráficas, vemos que ha una zona específica donde se obtienen los mayores valores de recall (por hacer una analogía, es una especie de \"meseta\"). A priori no hay preferencia en cuanto a que punto seleccionar, por lo que tomaremos uno relativamente central, contretamente el *C* = **6** y *gamma* = **0.02**."
   ]
  },
  {
   "cell_type": "markdown",
   "metadata": {},
   "source": [
    "### POLY KERNEL"
   ]
  },
  {
   "cell_type": "markdown",
   "metadata": {},
   "source": [
    "Para el kernel **POLY** no podemos hacer una representacion debido a que tenemos 3 hiperparámetros que buscar, requeriríamos 4 dimensiones para esta tarea. Por lo tanto, vamos a seleccionar los mejores parametros que nos devuelve la funcion Gridsearch"
   ]
  },
  {
   "cell_type": "code",
   "execution_count": 118,
   "metadata": {},
   "outputs": [
    {
     "data": {
      "text/plain": [
       "{'C': 5.5600000000000005, 'degree': 3, 'gamma': 0.06040000000000001}"
      ]
     },
     "execution_count": 118,
     "metadata": {},
     "output_type": "execute_result"
    }
   ],
   "source": [
    "bestParams['poly']"
   ]
  },
  {
   "cell_type": "markdown",
   "metadata": {},
   "source": [
    "### SIGMOID KERNEL"
   ]
  },
  {
   "cell_type": "markdown",
   "metadata": {},
   "source": [
    "Ahora vamos a representar los resultados utilizando como *kernel* la **SIGMOID**."
   ]
  },
  {
   "cell_type": "code",
   "execution_count": 131,
   "metadata": {},
   "outputs": [
    {
     "data": {
      "image/png": "[encoded data removed]",
      "text/plain": [
       "<Figure size 1000x700 with 2 Axes>"
      ]
     },
     "metadata": {},
     "output_type": "display_data"
    }
   ],
   "source": [
    "# Extraer resultados del GridSearchCV\n",
    "kernel_sigmoid_results = resultados['sigmoid']  # Asegúrate de que es el kernel correcto\n",
    "\n",
    "# Extraer los valores de C, gamma y el score\n",
    "C_values = kernel_sigmoid_results['param_C'].data\n",
    "gamma_values = kernel_sigmoid_results['param_gamma'].data\n",
    "recall_scores = kernel_sigmoid_results['mean_test_score']\n",
    "\n",
    "# Crear un DataFrame para facilitar el manejo de datos\n",
    "df = pd.DataFrame({\n",
    "    'C': C_values,\n",
    "    'Gamma': gamma_values,\n",
    "    'Recall': recall_scores\n",
    "})\n",
    "\n",
    "# Crear una tabla pivotante para el heatmap\n",
    "pivot_table = df.pivot_table(index='Gamma', columns='C', values='Recall')\n",
    "\n",
    "# Dibujar el heatmap con Seaborn\n",
    "plt.figure(figsize=(10, 7))\n",
    "sns.heatmap(pivot_table, annot=True, cmap='coolwarm', fmt=\".3f\", cbar_kws={'label': 'Recall'})  # PRUEBA: coolwarm , YlOrRd , crest\n",
    "plt.title('Heatmap del Recall en función de C y Gamma (Kernel Sigmoid) para el conjunto de Validación')\n",
    "plt.xlabel('C')\n",
    "plt.ylabel('Gamma')\n",
    "plt.show()\n"
   ]
  },
  {
   "cell_type": "code",
   "execution_count": null,
   "metadata": {},
   "outputs": [
    {
     "data": {
      "application/vnd.plotly.v1+json": {
       "config": {
        "plotlyServerURL": "https://plot.ly"
       },
       "data": [
        {
         "hovertemplate": "C=%{x}<br>Gamma=%{y}<br>Recall=%{marker.color}<extra></extra>",
         "legendgroup": "",
         "marker": {
          "color": [
           0,
           0,
           0,
           0,
           0,
           0,
           0,
           0,
           0,
           0,
           0.6877777777777777,
           0.7977777777777778,
           0.7977777777777778,
           0.7977777777777778,
           0.8177777777777779,
           0.7777777777777779,
           0.7977777777777778,
           0.8077777777777779,
           0.7677777777777777,
           0.778888888888889,
           0.7377777777777778,
           0.7977777777777778,
           0.7877777777777778,
           0.7877777777777778,
           0.7977777777777778,
           0.8077777777777779,
           0.7877777777777778,
           0.778888888888889,
           0.7777777777777778,
           0.768888888888889,
           0.7377777777777778,
           0.8077777777777777,
           0.8077777777777777,
           0.7977777777777778,
           0.8488888888888889,
           0.8388888888888889,
           0.7677777777777778,
           0.778888888888889,
           0.7488888888888889,
           0.7988888888888889,
           0.7577777777777778,
           0.8077777777777777,
           0.7877777777777777,
           0.828888888888889,
           0.8488888888888889,
           0.8277777777777778,
           0.7877777777777777,
           0.8188888888888888,
           0.7188888888888888,
           0.7355555555555555,
           0.7577777777777778,
           0.8077777777777777,
           0.8177777777777779,
           0.8088888888888889,
           0.8388888888888889,
           0.8088888888888889,
           0.828888888888889,
           0.828888888888889,
           0.7388888888888889,
           0.7566666666666667,
           0.7677777777777778,
           0.8177777777777779,
           0.7877777777777777,
           0.8388888888888889,
           0.7777777777777778,
           0.8388888888888889,
           0.7777777777777779,
           0.778888888888889,
           0.7566666666666667,
           0.6855555555555555,
           0.7777777777777778,
           0.8077777777777777,
           0.8077777777777777,
           0.8388888888888889,
           0.8188888888888888,
           0.8088888888888889,
           0.7877777777777777,
           0.7977777777777777,
           0.778888888888889,
           0.7444444444444445,
           0.7777777777777778,
           0.8177777777777779,
           0.8077777777777777,
           0.8188888888888888,
           0.8488888888888889,
           0.7977777777777778,
           0.8088888888888889,
           0.7388888888888889,
           0.7688888888888888,
           0.7455555555555555,
           0.7877777777777778,
           0.7877777777777778,
           0.7877777777777778,
           0.8088888888888889,
           0.8077777777777777,
           0.8077777777777779,
           0.7688888888888888,
           0.8188888888888888,
           0.7988888888888889,
           0.7777777777777778
          ],
          "coloraxis": "coloraxis",
          "symbol": "circle"
         },
         "mode": "markers",
         "name": "",
         "scene": "scene",
         "showlegend": false,
         "type": "scatter3d",
         "x": [
          0.01,
          0.01,
          0.01,
          0.01,
          0.01,
          0.01,
          0.01,
          0.01,
          0.01,
          0.01,
          3.342222222222222,
          3.342222222222222,
          3.342222222222222,
          3.342222222222222,
          3.342222222222222,
          3.342222222222222,
          3.342222222222222,
          3.342222222222222,
          3.342222222222222,
          3.342222222222222,
          6.674444444444444,
          6.674444444444444,
          6.674444444444444,
          6.674444444444444,
          6.674444444444444,
          6.674444444444444,
          6.674444444444444,
          6.674444444444444,
          6.674444444444444,
          6.674444444444444,
          10.006666666666666,
          10.006666666666666,
          10.006666666666666,
          10.006666666666666,
          10.006666666666666,
          10.006666666666666,
          10.006666666666666,
          10.006666666666666,
          10.006666666666666,
          10.006666666666666,
          13.338888888888889,
          13.338888888888889,
          13.338888888888889,
          13.338888888888889,
          13.338888888888889,
          13.338888888888889,
          13.338888888888889,
          13.338888888888889,
          13.338888888888889,
          13.338888888888889,
          16.671111111111113,
          16.671111111111113,
          16.671111111111113,
          16.671111111111113,
          16.671111111111113,
          16.671111111111113,
          16.671111111111113,
          16.671111111111113,
          16.671111111111113,
          16.671111111111113,
          20.003333333333334,
          20.003333333333334,
          20.003333333333334,
          20.003333333333334,
          20.003333333333334,
          20.003333333333334,
          20.003333333333334,
          20.003333333333334,
          20.003333333333334,
          20.003333333333334,
          23.33555555555556,
          23.33555555555556,
          23.33555555555556,
          23.33555555555556,
          23.33555555555556,
          23.33555555555556,
          23.33555555555556,
          23.33555555555556,
          23.33555555555556,
          23.33555555555556,
          26.66777777777778,
          26.66777777777778,
          26.66777777777778,
          26.66777777777778,
          26.66777777777778,
          26.66777777777778,
          26.66777777777778,
          26.66777777777778,
          26.66777777777778,
          26.66777777777778,
          30,
          30,
          30,
          30,
          30,
          30,
          30,
          30,
          30,
          30
         ],
         "y": [
          0.001,
          0.012,
          0.023000000000000003,
          0.034,
          0.045000000000000005,
          0.05600000000000001,
          0.067,
          0.07800000000000001,
          0.08900000000000001,
          0.1,
          0.001,
          0.012,
          0.023000000000000003,
          0.034,
          0.045000000000000005,
          0.05600000000000001,
          0.067,
          0.07800000000000001,
          0.08900000000000001,
          0.1,
          0.001,
          0.012,
          0.023000000000000003,
          0.034,
          0.045000000000000005,
          0.05600000000000001,
          0.067,
          0.07800000000000001,
          0.08900000000000001,
          0.1,
          0.001,
          0.012,
          0.023000000000000003,
          0.034,
          0.045000000000000005,
          0.05600000000000001,
          0.067,
          0.07800000000000001,
          0.08900000000000001,
          0.1,
          0.001,
          0.012,
          0.023000000000000003,
          0.034,
          0.045000000000000005,
          0.05600000000000001,
          0.067,
          0.07800000000000001,
          0.08900000000000001,
          0.1,
          0.001,
          0.012,
          0.023000000000000003,
          0.034,
          0.045000000000000005,
          0.05600000000000001,
          0.067,
          0.07800000000000001,
          0.08900000000000001,
          0.1,
          0.001,
          0.012,
          0.023000000000000003,
          0.034,
          0.045000000000000005,
          0.05600000000000001,
          0.067,
          0.07800000000000001,
          0.08900000000000001,
          0.1,
          0.001,
          0.012,
          0.023000000000000003,
          0.034,
          0.045000000000000005,
          0.05600000000000001,
          0.067,
          0.07800000000000001,
          0.08900000000000001,
          0.1,
          0.001,
          0.012,
          0.023000000000000003,
          0.034,
          0.045000000000000005,
          0.05600000000000001,
          0.067,
          0.07800000000000001,
          0.08900000000000001,
          0.1,
          0.001,
          0.012,
          0.023000000000000003,
          0.034,
          0.045000000000000005,
          0.05600000000000001,
          0.067,
          0.07800000000000001,
          0.08900000000000001,
          0.1
         ],
         "z": [
          0,
          0,
          0,
          0,
          0,
          0,
          0,
          0,
          0,
          0,
          0.6877777777777777,
          0.7977777777777778,
          0.7977777777777778,
          0.7977777777777778,
          0.8177777777777779,
          0.7777777777777779,
          0.7977777777777778,
          0.8077777777777779,
          0.7677777777777777,
          0.778888888888889,
          0.7377777777777778,
          0.7977777777777778,
          0.7877777777777778,
          0.7877777777777778,
          0.7977777777777778,
          0.8077777777777779,
          0.7877777777777778,
          0.778888888888889,
          0.7777777777777778,
          0.768888888888889,
          0.7377777777777778,
          0.8077777777777777,
          0.8077777777777777,
          0.7977777777777778,
          0.8488888888888889,
          0.8388888888888889,
          0.7677777777777778,
          0.778888888888889,
          0.7488888888888889,
          0.7988888888888889,
          0.7577777777777778,
          0.8077777777777777,
          0.7877777777777777,
          0.828888888888889,
          0.8488888888888889,
          0.8277777777777778,
          0.7877777777777777,
          0.8188888888888888,
          0.7188888888888888,
          0.7355555555555555,
          0.7577777777777778,
          0.8077777777777777,
          0.8177777777777779,
          0.8088888888888889,
          0.8388888888888889,
          0.8088888888888889,
          0.828888888888889,
          0.828888888888889,
          0.7388888888888889,
          0.7566666666666667,
          0.7677777777777778,
          0.8177777777777779,
          0.7877777777777777,
          0.8388888888888889,
          0.7777777777777778,
          0.8388888888888889,
          0.7777777777777779,
          0.778888888888889,
          0.7566666666666667,
          0.6855555555555555,
          0.7777777777777778,
          0.8077777777777777,
          0.8077777777777777,
          0.8388888888888889,
          0.8188888888888888,
          0.8088888888888889,
          0.7877777777777777,
          0.7977777777777777,
          0.778888888888889,
          0.7444444444444445,
          0.7777777777777778,
          0.8177777777777779,
          0.8077777777777777,
          0.8188888888888888,
          0.8488888888888889,
          0.7977777777777778,
          0.8088888888888889,
          0.7388888888888889,
          0.7688888888888888,
          0.7455555555555555,
          0.7877777777777778,
          0.7877777777777778,
          0.7877777777777778,
          0.8088888888888889,
          0.8077777777777777,
          0.8077777777777779,
          0.7688888888888888,
          0.8188888888888888,
          0.7988888888888889,
          0.7777777777777778
         ]
        }
       ],
       "layout": {
        "coloraxis": {
         "colorbar": {
          "title": {
           "text": "Recall"
          }
         },
         "colorscale": [
          [
           0,
           "rgb(0,0,131)"
          ],
          [
           0.2,
           "rgb(0,60,170)"
          ],
          [
           0.4,
           "rgb(5,255,255)"
          ],
          [
           0.6,
           "rgb(255,255,0)"
          ],
          [
           0.8,
           "rgb(250,0,0)"
          ],
          [
           1,
           "rgb(128,0,0)"
          ]
         ]
        },
        "legend": {
         "tracegroupgap": 0
        },
        "scene": {
         "domain": {
          "x": [
           0,
           1
          ],
          "y": [
           0,
           1
          ]
         },
         "xaxis": {
          "title": {
           "text": "C"
          }
         },
         "yaxis": {
          "title": {
           "text": "Gamma"
          }
         },
         "zaxis": {
          "title": {
           "text": "Recall"
          }
         }
        },
        "template": {
         "data": {
          "bar": [
           {
            "error_x": {
             "color": "#f2f5fa"
            },
            "error_y": {
             "color": "#f2f5fa"
            },
            "marker": {
             "line": {
              "color": "rgb(17,17,17)",
              "width": 0.5
             },
             "pattern": {
              "fillmode": "overlay",
              "size": 10,
              "solidity": 0.2
             }
            },
            "type": "bar"
           }
          ],
          "barpolar": [
           {
            "marker": {
             "line": {
              "color": "rgb(17,17,17)",
              "width": 0.5
             },
             "pattern": {
              "fillmode": "overlay",
              "size": 10,
              "solidity": 0.2
             }
            },
            "type": "barpolar"
           }
          ],
          "carpet": [
           {
            "aaxis": {
             "endlinecolor": "#A2B1C6",
             "gridcolor": "#506784",
             "linecolor": "#506784",
             "minorgridcolor": "#506784",
             "startlinecolor": "#A2B1C6"
            },
            "baxis": {
             "endlinecolor": "#A2B1C6",
             "gridcolor": "#506784",
             "linecolor": "#506784",
             "minorgridcolor": "#506784",
             "startlinecolor": "#A2B1C6"
            },
            "type": "carpet"
           }
          ],
          "choropleth": [
           {
            "colorbar": {
             "outlinewidth": 0,
             "ticks": ""
            },
            "type": "choropleth"
           }
          ],
          "contour": [
           {
            "colorbar": {
             "outlinewidth": 0,
             "ticks": ""
            },
            "colorscale": [
             [
              0,
              "#0d0887"
             ],
             [
              0.1111111111111111,
              "#46039f"
             ],
             [
              0.2222222222222222,
              "#7201a8"
             ],
             [
              0.3333333333333333,
              "#9c179e"
             ],
             [
              0.4444444444444444,
              "#bd3786"
             ],
             [
              0.5555555555555556,
              "#d8576b"
             ],
             [
              0.6666666666666666,
              "#ed7953"
             ],
             [
              0.7777777777777778,
              "#fb9f3a"
             ],
             [
              0.8888888888888888,
              "#fdca26"
             ],
             [
              1,
              "#f0f921"
             ]
            ],
            "type": "contour"
           }
          ],
          "contourcarpet": [
           {
            "colorbar": {
             "outlinewidth": 0,
             "ticks": ""
            },
            "type": "contourcarpet"
           }
          ],
          "heatmap": [
           {
            "colorbar": {
             "outlinewidth": 0,
             "ticks": ""
            },
            "colorscale": [
             [
              0,
              "#0d0887"
             ],
             [
              0.1111111111111111,
              "#46039f"
             ],
             [
              0.2222222222222222,
              "#7201a8"
             ],
             [
              0.3333333333333333,
              "#9c179e"
             ],
             [
              0.4444444444444444,
              "#bd3786"
             ],
             [
              0.5555555555555556,
              "#d8576b"
             ],
             [
              0.6666666666666666,
              "#ed7953"
             ],
             [
              0.7777777777777778,
              "#fb9f3a"
             ],
             [
              0.8888888888888888,
              "#fdca26"
             ],
             [
              1,
              "#f0f921"
             ]
            ],
            "type": "heatmap"
           }
          ],
          "heatmapgl": [
           {
            "colorbar": {
             "outlinewidth": 0,
             "ticks": ""
            },
            "colorscale": [
             [
              0,
              "#0d0887"
             ],
             [
              0.1111111111111111,
              "#46039f"
             ],
             [
              0.2222222222222222,
              "#7201a8"
             ],
             [
              0.3333333333333333,
              "#9c179e"
             ],
             [
              0.4444444444444444,
              "#bd3786"
             ],
             [
              0.5555555555555556,
              "#d8576b"
             ],
             [
              0.6666666666666666,
              "#ed7953"
             ],
             [
              0.7777777777777778,
              "#fb9f3a"
             ],
             [
              0.8888888888888888,
              "#fdca26"
             ],
             [
              1,
              "#f0f921"
             ]
            ],
            "type": "heatmapgl"
           }
          ],
          "histogram": [
           {
            "marker": {
             "pattern": {
              "fillmode": "overlay",
              "size": 10,
              "solidity": 0.2
             }
            },
            "type": "histogram"
           }
          ],
          "histogram2d": [
           {
            "colorbar": {
             "outlinewidth": 0,
             "ticks": ""
            },
            "colorscale": [
             [
              0,
              "#0d0887"
             ],
             [
              0.1111111111111111,
              "#46039f"
             ],
             [
              0.2222222222222222,
              "#7201a8"
             ],
             [
              0.3333333333333333,
              "#9c179e"
             ],
             [
              0.4444444444444444,
              "#bd3786"
             ],
             [
              0.5555555555555556,
              "#d8576b"
             ],
             [
              0.6666666666666666,
              "#ed7953"
             ],
             [
              0.7777777777777778,
              "#fb9f3a"
             ],
             [
              0.8888888888888888,
              "#fdca26"
             ],
             [
              1,
              "#f0f921"
             ]
            ],
            "type": "histogram2d"
           }
          ],
          "histogram2dcontour": [
           {
            "colorbar": {
             "outlinewidth": 0,
             "ticks": ""
            },
            "colorscale": [
             [
              0,
              "#0d0887"
             ],
             [
              0.1111111111111111,
              "#46039f"
             ],
             [
              0.2222222222222222,
              "#7201a8"
             ],
             [
              0.3333333333333333,
              "#9c179e"
             ],
             [
              0.4444444444444444,
              "#bd3786"
             ],
             [
              0.5555555555555556,
              "#d8576b"
             ],
             [
              0.6666666666666666,
              "#ed7953"
             ],
             [
              0.7777777777777778,
              "#fb9f3a"
             ],
             [
              0.8888888888888888,
              "#fdca26"
             ],
             [
              1,
              "#f0f921"
             ]
            ],
            "type": "histogram2dcontour"
           }
          ],
          "mesh3d": [
           {
            "colorbar": {
             "outlinewidth": 0,
             "ticks": ""
            },
            "type": "mesh3d"
           }
          ],
          "parcoords": [
           {
            "line": {
             "colorbar": {
              "outlinewidth": 0,
              "ticks": ""
             }
            },
            "type": "parcoords"
           }
          ],
          "pie": [
           {
            "automargin": true,
            "type": "pie"
           }
          ],
          "scatter": [
           {
            "marker": {
             "line": {
              "color": "#283442"
             }
            },
            "type": "scatter"
           }
          ],
          "scatter3d": [
           {
            "line": {
             "colorbar": {
              "outlinewidth": 0,
              "ticks": ""
             }
            },
            "marker": {
             "colorbar": {
              "outlinewidth": 0,
              "ticks": ""
             }
            },
            "type": "scatter3d"
           }
          ],
          "scattercarpet": [
           {
            "marker": {
             "colorbar": {
              "outlinewidth": 0,
              "ticks": ""
             }
            },
            "type": "scattercarpet"
           }
          ],
          "scattergeo": [
           {
            "marker": {
             "colorbar": {
              "outlinewidth": 0,
              "ticks": ""
             }
            },
            "type": "scattergeo"
           }
          ],
          "scattergl": [
           {
            "marker": {
             "line": {
              "color": "#283442"
             }
            },
            "type": "scattergl"
           }
          ],
          "scattermapbox": [
           {
            "marker": {
             "colorbar": {
              "outlinewidth": 0,
              "ticks": ""
             }
            },
            "type": "scattermapbox"
           }
          ],
          "scatterpolar": [
           {
            "marker": {
             "colorbar": {
              "outlinewidth": 0,
              "ticks": ""
             }
            },
            "type": "scatterpolar"
           }
          ],
          "scatterpolargl": [
           {
            "marker": {
             "colorbar": {
              "outlinewidth": 0,
              "ticks": ""
             }
            },
            "type": "scatterpolargl"
           }
          ],
          "scatterternary": [
           {
            "marker": {
             "colorbar": {
              "outlinewidth": 0,
              "ticks": ""
             }
            },
            "type": "scatterternary"
           }
          ],
          "surface": [
           {
            "colorbar": {
             "outlinewidth": 0,
             "ticks": ""
            },
            "colorscale": [
             [
              0,
              "#0d0887"
             ],
             [
              0.1111111111111111,
              "#46039f"
             ],
             [
              0.2222222222222222,
              "#7201a8"
             ],
             [
              0.3333333333333333,
              "#9c179e"
             ],
             [
              0.4444444444444444,
              "#bd3786"
             ],
             [
              0.5555555555555556,
              "#d8576b"
             ],
             [
              0.6666666666666666,
              "#ed7953"
             ],
             [
              0.7777777777777778,
              "#fb9f3a"
             ],
             [
              0.8888888888888888,
              "#fdca26"
             ],
             [
              1,
              "#f0f921"
             ]
            ],
            "type": "surface"
           }
          ],
          "table": [
           {
            "cells": {
             "fill": {
              "color": "#506784"
             },
             "line": {
              "color": "rgb(17,17,17)"
             }
            },
            "header": {
             "fill": {
              "color": "#2a3f5f"
             },
             "line": {
              "color": "rgb(17,17,17)"
             }
            },
            "type": "table"
           }
          ]
         },
         "layout": {
          "annotationdefaults": {
           "arrowcolor": "#f2f5fa",
           "arrowhead": 0,
           "arrowwidth": 1
          },
          "autotypenumbers": "strict",
          "coloraxis": {
           "colorbar": {
            "outlinewidth": 0,
            "ticks": ""
           }
          },
          "colorscale": {
           "diverging": [
            [
             0,
             "#8e0152"
            ],
            [
             0.1,
             "#c51b7d"
            ],
            [
             0.2,
             "#de77ae"
            ],
            [
             0.3,
             "#f1b6da"
            ],
            [
             0.4,
             "#fde0ef"
            ],
            [
             0.5,
             "#f7f7f7"
            ],
            [
             0.6,
             "#e6f5d0"
            ],
            [
             0.7,
             "#b8e186"
            ],
            [
             0.8,
             "#7fbc41"
            ],
            [
             0.9,
             "#4d9221"
            ],
            [
             1,
             "#276419"
            ]
           ],
           "sequential": [
            [
             0,
             "#0d0887"
            ],
            [
             0.1111111111111111,
             "#46039f"
            ],
            [
             0.2222222222222222,
             "#7201a8"
            ],
            [
             0.3333333333333333,
             "#9c179e"
            ],
            [
             0.4444444444444444,
             "#bd3786"
            ],
            [
             0.5555555555555556,
             "#d8576b"
            ],
            [
             0.6666666666666666,
             "#ed7953"
            ],
            [
             0.7777777777777778,
             "#fb9f3a"
            ],
            [
             0.8888888888888888,
             "#fdca26"
            ],
            [
             1,
             "#f0f921"
            ]
           ],
           "sequentialminus": [
            [
             0,
             "#0d0887"
            ],
            [
             0.1111111111111111,
             "#46039f"
            ],
            [
             0.2222222222222222,
             "#7201a8"
            ],
            [
             0.3333333333333333,
             "#9c179e"
            ],
            [
             0.4444444444444444,
             "#bd3786"
            ],
            [
             0.5555555555555556,
             "#d8576b"
            ],
            [
             0.6666666666666666,
             "#ed7953"
            ],
            [
             0.7777777777777778,
             "#fb9f3a"
            ],
            [
             0.8888888888888888,
             "#fdca26"
            ],
            [
             1,
             "#f0f921"
            ]
           ]
          },
          "colorway": [
           "#636efa",
           "#EF553B",
           "#00cc96",
           "#ab63fa",
           "#FFA15A",
           "#19d3f3",
           "#FF6692",
           "#B6E880",
           "#FF97FF",
           "#FECB52"
          ],
          "font": {
           "color": "#f2f5fa"
          },
          "geo": {
           "bgcolor": "rgb(17,17,17)",
           "lakecolor": "rgb(17,17,17)",
           "landcolor": "rgb(17,17,17)",
           "showlakes": true,
           "showland": true,
           "subunitcolor": "#506784"
          },
          "hoverlabel": {
           "align": "left"
          },
          "hovermode": "closest",
          "mapbox": {
           "style": "dark"
          },
          "paper_bgcolor": "rgb(17,17,17)",
          "plot_bgcolor": "rgb(17,17,17)",
          "polar": {
           "angularaxis": {
            "gridcolor": "#506784",
            "linecolor": "#506784",
            "ticks": ""
           },
           "bgcolor": "rgb(17,17,17)",
           "radialaxis": {
            "gridcolor": "#506784",
            "linecolor": "#506784",
            "ticks": ""
           }
          },
          "scene": {
           "xaxis": {
            "backgroundcolor": "rgb(17,17,17)",
            "gridcolor": "#506784",
            "gridwidth": 2,
            "linecolor": "#506784",
            "showbackground": true,
            "ticks": "",
            "zerolinecolor": "#C8D4E3"
           },
           "yaxis": {
            "backgroundcolor": "rgb(17,17,17)",
            "gridcolor": "#506784",
            "gridwidth": 2,
            "linecolor": "#506784",
            "showbackground": true,
            "ticks": "",
            "zerolinecolor": "#C8D4E3"
           },
           "zaxis": {
            "backgroundcolor": "rgb(17,17,17)",
            "gridcolor": "#506784",
            "gridwidth": 2,
            "linecolor": "#506784",
            "showbackground": true,
            "ticks": "",
            "zerolinecolor": "#C8D4E3"
           }
          },
          "shapedefaults": {
           "line": {
            "color": "#f2f5fa"
           }
          },
          "sliderdefaults": {
           "bgcolor": "#C8D4E3",
           "bordercolor": "rgb(17,17,17)",
           "borderwidth": 1,
           "tickwidth": 0
          },
          "ternary": {
           "aaxis": {
            "gridcolor": "#506784",
            "linecolor": "#506784",
            "ticks": ""
           },
           "baxis": {
            "gridcolor": "#506784",
            "linecolor": "#506784",
            "ticks": ""
           },
           "bgcolor": "rgb(17,17,17)",
           "caxis": {
            "gridcolor": "#506784",
            "linecolor": "#506784",
            "ticks": ""
           }
          },
          "title": {
           "x": 0.05
          },
          "updatemenudefaults": {
           "bgcolor": "#506784",
           "borderwidth": 0
          },
          "xaxis": {
           "automargin": true,
           "gridcolor": "#283442",
           "linecolor": "#506784",
           "ticks": "",
           "title": {
            "standoff": 15
           },
           "zerolinecolor": "#283442",
           "zerolinewidth": 2
          },
          "yaxis": {
           "automargin": true,
           "gridcolor": "#283442",
           "linecolor": "#506784",
           "ticks": "",
           "title": {
            "standoff": 15
           },
           "zerolinecolor": "#283442",
           "zerolinewidth": 2
          }
         }
        },
        "title": {
         "text": "Recall en función de C y Gamma (Kernel Sigmoid)"
        }
       }
      }
     },
     "metadata": {},
     "output_type": "display_data"
    }
   ],
   "source": [
    "# Extraer resultados del GridSearchCV\n",
    "kernel_sigmoid_results = resultados['sigmoid']  # Asegúrate de que es el kernel correcto\n",
    "\n",
    "# Extraer los valores de C, gamma y el score\n",
    "C_values = kernel_sigmoid_results['param_C'].data\n",
    "gamma_values = kernel_sigmoid_results['param_gamma'].data\n",
    "recall_scores = kernel_sigmoid_results['mean_test_score']\n",
    "\n",
    "# Crear un DataFrame para facilitar el manejo de datos\n",
    "df = pd.DataFrame({\n",
    "    'C': C_values,\n",
    "    'Gamma': gamma_values,\n",
    "    'Recall': recall_scores\n",
    "})\n",
    "    \n",
    "# Crear un gráfico Scatter 3D interactivo con Plotly\n",
    "import plotly.express as px\n",
    "fig = px.scatter_3d(df, x='C', y='Gamma', z='Recall', color='Recall', \n",
    "                    title='Recall en función de C y Gamma (Kernel Sigmoid)', \n",
    "                    color_continuous_scale='Jet')\n",
    "fig.show()"
   ]
  }
 ],
 "metadata": {
  "kernelspec": {
   "display_name": "base",
   "language": "python",
   "name": "python3"
  },
  "language_info": {
   "codemirror_mode": {
    "name": "ipython",
    "version": 3
   },
   "file_extension": ".py",
   "mimetype": "text/x-python",
   "name": "python",
   "nbconvert_exporter": "python",
   "pygments_lexer": "ipython3",
   "version": "3.12.7"
  }
 },
 "nbformat": 4,
 "nbformat_minor": 2
}
